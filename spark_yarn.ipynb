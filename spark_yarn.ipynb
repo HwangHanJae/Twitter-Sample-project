{
 "cells": [
  {
   "cell_type": "code",
   "execution_count": 50,
   "metadata": {},
   "outputs": [
    {
     "ename": "",
     "evalue": "",
     "output_type": "error",
     "traceback": [
      "\u001b[1;31mThe Kernel crashed while executing code in the the current cell or a previous cell. Please review the code in the cell(s) to identify a possible cause of the failure. Click <a href='https://aka.ms/vscodeJupyterKernelCrash'>here</a> for more info. View Jupyter <a href='command:jupyter.viewOutput'>log</a> for further details."
     ]
    }
   ],
   "source": [
    "quit()"
   ]
  },
  {
   "cell_type": "code",
   "execution_count": 1,
   "metadata": {},
   "outputs": [],
   "source": [
    "from pyspark.sql import SparkSession\n",
    "from pyspark.sql import Row"
   ]
  },
  {
   "cell_type": "code",
   "execution_count": 2,
   "metadata": {},
   "outputs": [
    {
     "name": "stdout",
     "output_type": "stream",
     "text": [
      ":: loading settings :: url = jar:file:/usr/local/spark-3.3.2-bin-hadoop3/jars/ivy-2.5.1.jar!/org/apache/ivy/core/settings/ivysettings.xml\n"
     ]
    },
    {
     "name": "stderr",
     "output_type": "stream",
     "text": [
      "Ivy Default Cache set to: /home/bigdata/.ivy2/cache\n",
      "The jars for the packages stored in: /home/bigdata/.ivy2/jars\n",
      "org.mongodb.spark#mongo-spark-connector_2.12 added as a dependency\n",
      ":: resolving dependencies :: org.apache.spark#spark-submit-parent-dc51f40b-5e8d-4856-b74a-ca531fffb539;1.0\n",
      "\tconfs: [default]\n",
      "\tfound org.mongodb.spark#mongo-spark-connector_2.12;3.0.1 in central\n",
      "\tfound org.mongodb#mongodb-driver-sync;4.0.5 in central\n",
      "\tfound org.mongodb#bson;4.0.5 in central\n",
      "\tfound org.mongodb#mongodb-driver-core;4.0.5 in central\n",
      ":: resolution report :: resolve 352ms :: artifacts dl 31ms\n",
      "\t:: modules in use:\n",
      "\torg.mongodb#bson;4.0.5 from central in [default]\n",
      "\torg.mongodb#mongodb-driver-core;4.0.5 from central in [default]\n",
      "\torg.mongodb#mongodb-driver-sync;4.0.5 from central in [default]\n",
      "\torg.mongodb.spark#mongo-spark-connector_2.12;3.0.1 from central in [default]\n",
      "\t---------------------------------------------------------------------\n",
      "\t|                  |            modules            ||   artifacts   |\n",
      "\t|       conf       | number| search|dwnlded|evicted|| number|dwnlded|\n",
      "\t---------------------------------------------------------------------\n",
      "\t|      default     |   4   |   0   |   0   |   0   ||   4   |   0   |\n",
      "\t---------------------------------------------------------------------\n",
      ":: retrieving :: org.apache.spark#spark-submit-parent-dc51f40b-5e8d-4856-b74a-ca531fffb539\n",
      "\tconfs: [default]\n",
      "\t0 artifacts copied, 4 already retrieved (0kB/10ms)\n"
     ]
    },
    {
     "name": "stdout",
     "output_type": "stream",
     "text": [
      "23/03/23 11:17:46 WARN NativeCodeLoader: Unable to load native-hadoop library for your platform... using builtin-java classes where applicable\n"
     ]
    },
    {
     "name": "stderr",
     "output_type": "stream",
     "text": [
      "Setting default log level to \"WARN\".\n",
      "To adjust logging level use sc.setLogLevel(newLevel). For SparkR, use setLogLevel(newLevel).\n"
     ]
    },
    {
     "name": "stdout",
     "output_type": "stream",
     "text": [
      "23/03/23 11:17:50 WARN Client: Neither spark.yarn.jars nor spark.yarn.archive is set, falling back to uploading libraries under SPARK_HOME.\n",
      "23/03/23 11:18:07 WARN Client: Same path resource file:///home/bigdata/.ivy2/jars/org.mongodb.spark_mongo-spark-connector_2.12-3.0.1.jar added multiple times to distributed cache.\n",
      "23/03/23 11:18:07 WARN Client: Same path resource file:///home/bigdata/.ivy2/jars/org.mongodb_mongodb-driver-sync-4.0.5.jar added multiple times to distributed cache.\n",
      "23/03/23 11:18:07 WARN Client: Same path resource file:///home/bigdata/.ivy2/jars/org.mongodb_bson-4.0.5.jar added multiple times to distributed cache.\n",
      "23/03/23 11:18:07 WARN Client: Same path resource file:///home/bigdata/.ivy2/jars/org.mongodb_mongodb-driver-core-4.0.5.jar added multiple times to distributed cache.\n"
     ]
    }
   ],
   "source": [
    "yarn = SparkSession\\\n",
    "        .builder\\\n",
    "        .master('yarn')\\\n",
    "        .appName('twitter_yarn')\\\n",
    "        .config('spark.executor.instances', 4)\\\n",
    "        .config('spark.jars.packages', 'org.mongodb.spark:mongo-spark-connector_2.12:3.0.1')\\\n",
    "        .getOrCreate()"
   ]
  },
  {
   "cell_type": "code",
   "execution_count": 3,
   "metadata": {},
   "outputs": [
    {
     "data": {
      "text/plain": [
       "[('spark.eventLog.enabled', 'true'),\n",
       " ('spark.executor.instances', '4'),\n",
       " ('spark.driver.extraJavaOptions',\n",
       "  '-XX:+IgnoreUnrecognizedVMOptions --add-opens=java.base/java.lang=ALL-UNNAMED --add-opens=java.base/java.lang.invoke=ALL-UNNAMED --add-opens=java.base/java.lang.reflect=ALL-UNNAMED --add-opens=java.base/java.io=ALL-UNNAMED --add-opens=java.base/java.net=ALL-UNNAMED --add-opens=java.base/java.nio=ALL-UNNAMED --add-opens=java.base/java.util=ALL-UNNAMED --add-opens=java.base/java.util.concurrent=ALL-UNNAMED --add-opens=java.base/java.util.concurrent.atomic=ALL-UNNAMED --add-opens=java.base/sun.nio.ch=ALL-UNNAMED --add-opens=java.base/sun.nio.cs=ALL-UNNAMED --add-opens=java.base/sun.security.action=ALL-UNNAMED --add-opens=java.base/sun.util.calendar=ALL-UNNAMED --add-opens=java.security.jgss/sun.security.krb5=ALL-UNNAMED'),\n",
       " ('spark.ui.proxyBase', '/proxy/application_1679537503616_0001'),\n",
       " ('spark.jars.packages', 'org.mongodb.spark:mongo-spark-connector_2.12:3.0.1'),\n",
       " ('spark.driver.appUIAddress', 'http://master:4040'),\n",
       " ('spark.org.apache.hadoop.yarn.server.webproxy.amfilter.AmIpFilter.param.PROXY_HOSTS',\n",
       "  'master'),\n",
       " ('spark.sql.warehouse.dir', 'hdfs://master/user/bigdata/spark-warehouse'),\n",
       " ('spark.executorEnv.PYTHONPATH',\n",
       "  '{{PWD}}/pyspark.zip<CPS>{{PWD}}/py4j-0.10.9.5-src.zip<CPS>{{PWD}}/org.mongodb.spark_mongo-spark-connector_2.12-3.0.1.jar<CPS>{{PWD}}/org.mongodb_mongodb-driver-sync-4.0.5.jar<CPS>{{PWD}}/org.mongodb_bson-4.0.5.jar<CPS>{{PWD}}/org.mongodb_mongodb-driver-core-4.0.5.jar'),\n",
       " ('spark.app.id', 'application_1679537503616_0001'),\n",
       " ('spark.ui.killEnabled', 'true'),\n",
       " ('spark.eventLog.dir', 'hdfs://master/user/bigdata/spark_eventLog'),\n",
       " ('spark.ui.port', '4040'),\n",
       " ('spark.repl.local.jars',\n",
       "  'file:///home/bigdata/.ivy2/jars/org.mongodb.spark_mongo-spark-connector_2.12-3.0.1.jar,file:///home/bigdata/.ivy2/jars/org.mongodb_mongodb-driver-sync-4.0.5.jar,file:///home/bigdata/.ivy2/jars/org.mongodb_bson-4.0.5.jar,file:///home/bigdata/.ivy2/jars/org.mongodb_mongodb-driver-core-4.0.5.jar'),\n",
       " ('spark.yarn.secondary.jars',\n",
       "  'org.mongodb.spark_mongo-spark-connector_2.12-3.0.1.jar,org.mongodb_mongodb-driver-sync-4.0.5.jar,org.mongodb_bson-4.0.5.jar,org.mongodb_mongodb-driver-core-4.0.5.jar'),\n",
       " ('spark.serializer.objectStreamReset', '100'),\n",
       " ('spark.submit.pyFiles',\n",
       "  '/home/bigdata/.ivy2/jars/org.mongodb.spark_mongo-spark-connector_2.12-3.0.1.jar,/home/bigdata/.ivy2/jars/org.mongodb_mongodb-driver-sync-4.0.5.jar,/home/bigdata/.ivy2/jars/org.mongodb_bson-4.0.5.jar,/home/bigdata/.ivy2/jars/org.mongodb_mongodb-driver-core-4.0.5.jar'),\n",
       " ('spark.submit.deployMode', 'client'),\n",
       " ('spark.ui.filters',\n",
       "  'org.apache.hadoop.yarn.server.webproxy.amfilter.AmIpFilter'),\n",
       " ('spark.driver.host', 'master'),\n",
       " ('spark.ui.enabled', 'true'),\n",
       " ('spark.app.name', 'twitter_yarn'),\n",
       " ('spark.executor.id', 'driver'),\n",
       " ('spark.driver.port', '40169'),\n",
       " ('spark.org.apache.hadoop.yarn.server.webproxy.amfilter.AmIpFilter.param.PROXY_URI_BASES',\n",
       "  'http://master:8088/proxy/application_1679537503616_0001'),\n",
       " ('spark.yarn.dist.pyFiles',\n",
       "  'file:///home/bigdata/.ivy2/jars/org.mongodb.spark_mongo-spark-connector_2.12-3.0.1.jar,file:///home/bigdata/.ivy2/jars/org.mongodb_mongodb-driver-sync-4.0.5.jar,file:///home/bigdata/.ivy2/jars/org.mongodb_bson-4.0.5.jar,file:///home/bigdata/.ivy2/jars/org.mongodb_mongodb-driver-core-4.0.5.jar'),\n",
       " ('spark.master', 'yarn'),\n",
       " ('spark.rdd.compress', 'True'),\n",
       " ('spark.executor.extraJavaOptions',\n",
       "  '-XX:+IgnoreUnrecognizedVMOptions --add-opens=java.base/java.lang=ALL-UNNAMED --add-opens=java.base/java.lang.invoke=ALL-UNNAMED --add-opens=java.base/java.lang.reflect=ALL-UNNAMED --add-opens=java.base/java.io=ALL-UNNAMED --add-opens=java.base/java.net=ALL-UNNAMED --add-opens=java.base/java.nio=ALL-UNNAMED --add-opens=java.base/java.util=ALL-UNNAMED --add-opens=java.base/java.util.concurrent=ALL-UNNAMED --add-opens=java.base/java.util.concurrent.atomic=ALL-UNNAMED --add-opens=java.base/sun.nio.ch=ALL-UNNAMED --add-opens=java.base/sun.nio.cs=ALL-UNNAMED --add-opens=java.base/sun.security.action=ALL-UNNAMED --add-opens=java.base/sun.util.calendar=ALL-UNNAMED --add-opens=java.security.jgss/sun.security.krb5=ALL-UNNAMED'),\n",
       " ('spark.app.startTime', '1679537867249'),\n",
       " ('spark.yarn.dist.jars',\n",
       "  'file:///home/bigdata/.ivy2/jars/org.mongodb.spark_mongo-spark-connector_2.12-3.0.1.jar,file:///home/bigdata/.ivy2/jars/org.mongodb_mongodb-driver-sync-4.0.5.jar,file:///home/bigdata/.ivy2/jars/org.mongodb_bson-4.0.5.jar,file:///home/bigdata/.ivy2/jars/org.mongodb_mongodb-driver-core-4.0.5.jar'),\n",
       " ('spark.yarn.isPython', 'true'),\n",
       " ('spark.app.submitTime', '1679537866926'),\n",
       " ('spark.ui.showConsoleProgress', 'true')]"
      ]
     },
     "execution_count": 3,
     "metadata": {},
     "output_type": "execute_result"
    }
   ],
   "source": [
    "yarn.sparkContext.getConf().getAll()"
   ]
  },
  {
   "cell_type": "code",
   "execution_count": 4,
   "metadata": {},
   "outputs": [
    {
     "name": "stderr",
     "output_type": "stream",
     "text": [
      "                                                                                \r"
     ]
    },
    {
     "name": "stdout",
     "output_type": "stream",
     "text": [
      "CPU times: user 0 ns, sys: 15.6 ms, total: 15.6 ms\n",
      "Wall time: 19.5 s\n"
     ]
    }
   ],
   "source": [
    "%%time\n",
    "df = yarn.read.format('mongo')\\\n",
    "               .option('uri', 'mongodb://192.168.56.101:27017/twitter.sample')\\\n",
    "               .load()\n",
    "\n",
    "df.createOrReplaceTempView('tweets')"
   ]
  },
  {
   "cell_type": "code",
   "execution_count": 5,
   "metadata": {},
   "outputs": [
    {
     "name": "stderr",
     "output_type": "stream",
     "text": [
      "                                                                                \r"
     ]
    },
    {
     "name": "stdout",
     "output_type": "stream",
     "text": [
      "+--------+\n",
      "|count(1)|\n",
      "+--------+\n",
      "| 7739109|\n",
      "+--------+\n",
      "\n"
     ]
    }
   ],
   "source": [
    "# 전체 데이터 수 확인\n",
    "query ='''\n",
    "SELECT count(*)\n",
    "FROM tweets\n",
    "'''\n",
    "yarn.sql(query).show()"
   ]
  },
  {
   "cell_type": "code",
   "execution_count": 9,
   "metadata": {},
   "outputs": [
    {
     "name": "stderr",
     "output_type": "stream",
     "text": [
      "                                                                                \r"
     ]
    },
    {
     "name": "stdout",
     "output_type": "stream",
     "text": [
      "+--------------------+--------------------+--------------------+\n",
      "|                 _id|          _timestamp|                data|\n",
      "+--------------------+--------------------+--------------------+\n",
      "|{64102551db4069ef...|2023-03-14T16:42:...|{2023-03-14T07:42...|\n",
      "|{64102551db4069ef...|2023-03-14T16:42:...|{2023-03-14T07:42...|\n",
      "|{64102551db4069ef...|2023-03-14T16:42:...|{2023-03-14T07:42...|\n",
      "|{64102551db4069ef...|2023-03-14T16:42:...|{2023-03-14T07:42...|\n",
      "|{64102551db4069ef...|2023-03-14T16:42:...|{2023-03-14T07:42...|\n",
      "+--------------------+--------------------+--------------------+\n",
      "only showing top 5 rows\n",
      "\n",
      "CPU times: user 2.22 ms, sys: 7.74 ms, total: 9.97 ms\n",
      "Wall time: 13.7 s\n"
     ]
    }
   ],
   "source": [
    "%%time\n",
    "# 데이터 확인\n",
    "\n",
    "query = \"\"\"\n",
    "  SELECT *\n",
    "  FROM tweets\n",
    "\"\"\"\n",
    "yarn.sql(query).show(5)"
   ]
  },
  {
   "cell_type": "code",
   "execution_count": 15,
   "metadata": {},
   "outputs": [
    {
     "name": "stderr",
     "output_type": "stream",
     "text": [
      "                                                                                \r"
     ]
    },
    {
     "name": "stdout",
     "output_type": "stream",
     "text": [
      "+----+-------+\n",
      "|lang|  count|\n",
      "+----+-------+\n",
      "|  en|2197064|\n",
      "|  ja|1708222|\n",
      "|  th| 484936|\n",
      "|  es| 467246|\n",
      "|  ko| 316200|\n",
      "+----+-------+\n",
      "only showing top 5 rows\n",
      "\n",
      "CPU times: user 49.9 ms, sys: 61 ms, total: 111 ms\n",
      "Wall time: 1min 5s\n"
     ]
    }
   ],
   "source": [
    "%%time\n",
    "#언어별 count 확인\n",
    "\n",
    "query = '''\n",
    "  SELECT data.lang as lang, count(*) count\n",
    "  FROM tweets\n",
    "  WHERE data.lang is not NULL\n",
    "  GROUP BY lang\n",
    "  ORDER BY count DESC;\n",
    "'''\n",
    "\n",
    "yarn.sql(query).show(5)"
   ]
  },
  {
   "cell_type": "code",
   "execution_count": 16,
   "metadata": {},
   "outputs": [
    {
     "name": "stdout",
     "output_type": "stream",
     "text": [
      "+-------------------+--------------------+\n",
      "|               time|                text|\n",
      "+-------------------+--------------------+\n",
      "|2023-03-14 16:42:09|@erdincciftci Goo...|\n",
      "|2023-03-14 16:42:09|@CheapremeBrand A...|\n",
      "|2023-03-14 16:42:09|RT @Joon_record: ...|\n",
      "|2023-03-14 16:42:09|RT @TheRavenCrypt...|\n",
      "|2023-03-14 16:42:09|@gareth_lane He i...|\n",
      "+-------------------+--------------------+\n",
      "only showing top 5 rows\n",
      "\n",
      "CPU times: user 4.39 ms, sys: 7.34 ms, total: 11.7 ms\n",
      "Wall time: 7.82 s\n"
     ]
    }
   ],
   "source": [
    "%%time\n",
    "#영어로 작성된 tweet만 추출\n",
    "\n",
    "query = \"\"\"\n",
    "  SELECT\n",
    "    DATE_FORMAT(_timestamp, \"yyyy-MM-dd HH:mm:ss\") as time,\n",
    "    data.text as text\n",
    "  FROM tweets\n",
    "  WHERE data.lang = 'en';\n",
    "\"\"\"\n",
    "\n",
    "en_tweets = yarn.sql(query)\n",
    "en_tweets.show(5)"
   ]
  },
  {
   "cell_type": "code",
   "execution_count": 17,
   "metadata": {},
   "outputs": [
    {
     "name": "stdout",
     "output_type": "stream",
     "text": [
      "CPU times: user 0 ns, sys: 4 µs, total: 4 µs\n",
      "Wall time: 6.2 µs\n"
     ]
    }
   ],
   "source": [
    "%%time\n",
    "#tweet의 text를 단어별로 split하는 함수\n",
    "def text_split(row):\n",
    "  for word in row.text.split():\n",
    "    yield Row(time=row.time, word=word)\n",
    "  "
   ]
  },
  {
   "cell_type": "code",
   "execution_count": 18,
   "metadata": {},
   "outputs": [
    {
     "name": "stderr",
     "output_type": "stream",
     "text": [
      "[Stage 11:>                                                         (0 + 1) / 1]\r"
     ]
    },
    {
     "name": "stdout",
     "output_type": "stream",
     "text": [
      "CPU times: user 2.31 ms, sys: 49.4 ms, total: 51.7 ms\n",
      "Wall time: 3.74 s\n"
     ]
    },
    {
     "name": "stderr",
     "output_type": "stream",
     "text": [
      "                                                                                \r"
     ]
    },
    {
     "data": {
      "text/plain": [
       "[Row(time='2023-03-14 16:42:09', text='@erdincciftci Good morning forever Erdin 🙏🔥')]"
      ]
     },
     "execution_count": 18,
     "metadata": {},
     "output_type": "execute_result"
    }
   ],
   "source": [
    "%%time\n",
    "#샘플하나 추출\n",
    "en_tweets.rdd.take(1)"
   ]
  },
  {
   "cell_type": "code",
   "execution_count": 19,
   "metadata": {},
   "outputs": [
    {
     "name": "stdout",
     "output_type": "stream",
     "text": [
      "CPU times: user 667 µs, sys: 13.2 ms, total: 13.8 ms\n",
      "Wall time: 628 ms\n"
     ]
    },
    {
     "data": {
      "text/plain": [
       "[Row(time='2023-03-14 16:42:09', word='@erdincciftci'),\n",
       " Row(time='2023-03-14 16:42:09', word='Good'),\n",
       " Row(time='2023-03-14 16:42:09', word='morning'),\n",
       " Row(time='2023-03-14 16:42:09', word='forever'),\n",
       " Row(time='2023-03-14 16:42:09', word='Erdin')]"
      ]
     },
     "execution_count": 19,
     "metadata": {},
     "output_type": "execute_result"
    }
   ],
   "source": [
    "%%time\n",
    "#단어별로 split한뒤에 5개 show\n",
    "en_tweets.rdd.flatMap(text_split).take(5)"
   ]
  },
  {
   "cell_type": "code",
   "execution_count": 20,
   "metadata": {},
   "outputs": [
    {
     "name": "stderr",
     "output_type": "stream",
     "text": [
      "[Stage 14:>                                                         (0 + 1) / 1]\r"
     ]
    },
    {
     "name": "stdout",
     "output_type": "stream",
     "text": [
      "+-------------------+-------------+\n",
      "|               time|         word|\n",
      "+-------------------+-------------+\n",
      "|2023-03-14 16:42:09|@erdincciftci|\n",
      "|2023-03-14 16:42:09|         Good|\n",
      "|2023-03-14 16:42:09|      morning|\n",
      "|2023-03-14 16:42:09|      forever|\n",
      "|2023-03-14 16:42:09|        Erdin|\n",
      "+-------------------+-------------+\n",
      "only showing top 5 rows\n",
      "\n",
      "CPU times: user 107 ms, sys: 498 ms, total: 605 ms\n",
      "Wall time: 6.52 s\n"
     ]
    },
    {
     "name": "stderr",
     "output_type": "stream",
     "text": [
      "                                                                                \r"
     ]
    }
   ],
   "source": [
    "%%time\n",
    "#단어별로 split한뒤에 데이터프레임으로 변경후 5개 show\n",
    "en_tweets.rdd.flatMap(text_split).toDF().show(5)"
   ]
  },
  {
   "cell_type": "code",
   "execution_count": 21,
   "metadata": {},
   "outputs": [
    {
     "name": "stdout",
     "output_type": "stream",
     "text": [
      "CPU times: user 10.7 ms, sys: 4.21 ms, total: 14.9 ms\n",
      "Wall time: 601 ms\n"
     ]
    }
   ],
   "source": [
    "%%time\n",
    "#단어별로 분리하고 데이터프레임으로 추출\n",
    "words = en_tweets.rdd.flatMap(text_split).toDF()\n",
    "words.createOrReplaceTempView('words')\n"
   ]
  },
  {
   "cell_type": "code",
   "execution_count": 23,
   "metadata": {},
   "outputs": [
    {
     "name": "stderr",
     "output_type": "stream",
     "text": [
      "[Stage 17:>                                                         (0 + 1) / 1]\r"
     ]
    },
    {
     "name": "stdout",
     "output_type": "stream",
     "text": [
      "+-------------------+-------------+\n",
      "|               time|         word|\n",
      "+-------------------+-------------+\n",
      "|2023-03-14 16:42:09|@erdincciftci|\n",
      "|2023-03-14 16:42:09|         Good|\n",
      "|2023-03-14 16:42:09|      morning|\n",
      "|2023-03-14 16:42:09|      forever|\n",
      "|2023-03-14 16:42:09|        Erdin|\n",
      "+-------------------+-------------+\n",
      "only showing top 5 rows\n",
      "\n",
      "CPU times: user 5.52 ms, sys: 171 µs, total: 5.69 ms\n",
      "Wall time: 1.61 s\n"
     ]
    },
    {
     "name": "stderr",
     "output_type": "stream",
     "text": [
      "                                                                                \r"
     ]
    }
   ],
   "source": [
    "%%time\n",
    "#words의 상위 5개 show\n",
    "words.show(5)"
   ]
  },
  {
   "cell_type": "code",
   "execution_count": 27,
   "metadata": {},
   "outputs": [
    {
     "name": "stderr",
     "output_type": "stream",
     "text": [
      "[Stage 19:======================================================> (42 + 1) / 43]\r"
     ]
    },
    {
     "name": "stdout",
     "output_type": "stream",
     "text": [
      "CPU times: user 30.2 ms, sys: 95.3 ms, total: 125 ms\n",
      "Wall time: 1min 21s\n"
     ]
    },
    {
     "name": "stderr",
     "output_type": "stream",
     "text": [
      "                                                                                \r"
     ]
    },
    {
     "data": {
      "text/plain": [
       "34827421"
      ]
     },
     "execution_count": 27,
     "metadata": {},
     "output_type": "execute_result"
    }
   ],
   "source": [
    "%%time\n",
    "#데이터프레임에서 개수 확인\n",
    "words.count()"
   ]
  },
  {
   "cell_type": "code",
   "execution_count": 24,
   "metadata": {},
   "outputs": [
    {
     "name": "stderr",
     "output_type": "stream",
     "text": [
      "                                                                                \r"
     ]
    },
    {
     "name": "stdout",
     "output_type": "stream",
     "text": [
      "CPU times: user 41.2 ms, sys: 92.5 ms, total: 134 ms\n",
      "Wall time: 1min 47s\n"
     ]
    }
   ],
   "source": [
    "%%time\n",
    "#words를 hdfs warehouse에 저장\n",
    "words.write.saveAsTable('yarn_twitter_sample_words')"
   ]
  },
  {
   "cell_type": "code",
   "execution_count": 34,
   "metadata": {},
   "outputs": [
    {
     "name": "stdout",
     "output_type": "stream",
     "text": [
      "-rw-r--r--   3 bigdata supergroup          0 2023-03-23 11:34 spark-warehouse/yarn_twitter_sample_words/_SUCCESS\n"
     ]
    }
   ],
   "source": [
    "!hdfs dfs -ls spark-warehouse/yarn_twitter_sample_words | grep _SUCCESS"
   ]
  },
  {
   "cell_type": "code",
   "execution_count": 38,
   "metadata": {},
   "outputs": [
    {
     "name": "stderr",
     "output_type": "stream",
     "text": [
      "[Stage 31:===========================================>              (3 + 1) / 4]\r"
     ]
    },
    {
     "name": "stdout",
     "output_type": "stream",
     "text": [
      "CPU times: user 0 ns, sys: 10.4 ms, total: 10.4 ms\n",
      "Wall time: 3.45 s\n"
     ]
    },
    {
     "name": "stderr",
     "output_type": "stream",
     "text": [
      "                                                                                \r"
     ]
    },
    {
     "data": {
      "text/plain": [
       "34827421"
      ]
     },
     "execution_count": 38,
     "metadata": {},
     "output_type": "execute_result"
    }
   ],
   "source": [
    "%%time\n",
    "#hdfs warehouse에 저장된 테이블 개수파악\n",
    "yarn.table('yarn_twitter_sample_words').count()"
   ]
  },
  {
   "cell_type": "markdown",
   "metadata": {},
   "source": [
    "물리적인 테이블의 형태로 보관하니 집계 시간이 빨라짐"
   ]
  },
  {
   "cell_type": "code",
   "execution_count": 36,
   "metadata": {},
   "outputs": [
    {
     "name": "stderr",
     "output_type": "stream",
     "text": [
      "                                                                                \r"
     ]
    },
    {
     "name": "stdout",
     "output_type": "stream",
     "text": [
      "+----+-------+\n",
      "|word|  count|\n",
      "+----+-------+\n",
      "|  RT|1232866|\n",
      "| the| 770781|\n",
      "|  to| 601721|\n",
      "|   a| 435703|\n",
      "| and| 416036|\n",
      "+----+-------+\n",
      "only showing top 5 rows\n",
      "\n",
      "CPU times: user 35 ms, sys: 101 ms, total: 136 ms\n",
      "Wall time: 1min 27s\n"
     ]
    }
   ],
   "source": [
    "%%time\n",
    "query = '''\n",
    "    SELECT word, count(*) count\n",
    "    FROM words\n",
    "    GROUP BY word\n",
    "    ORDER BY count DESC\n",
    "'''\n",
    "\n",
    "yarn.sql(query).show(5)"
   ]
  },
  {
   "cell_type": "code",
   "execution_count": 37,
   "metadata": {},
   "outputs": [
    {
     "name": "stderr",
     "output_type": "stream",
     "text": [
      "[Stage 30:===========================================>              (3 + 1) / 4]\r"
     ]
    },
    {
     "name": "stdout",
     "output_type": "stream",
     "text": [
      "+----+-------+\n",
      "|word|  count|\n",
      "+----+-------+\n",
      "|  RT|1232866|\n",
      "| the| 770781|\n",
      "|  to| 601721|\n",
      "|   a| 435703|\n",
      "| and| 416036|\n",
      "+----+-------+\n",
      "only showing top 5 rows\n",
      "\n",
      "CPU times: user 381 µs, sys: 36.7 ms, total: 37.1 ms\n",
      "Wall time: 12.3 s\n"
     ]
    },
    {
     "name": "stderr",
     "output_type": "stream",
     "text": [
      "                                                                                \r"
     ]
    }
   ],
   "source": [
    "%%time\n",
    "query = '''\n",
    "    SELECT word, count(*) count\n",
    "    FROM yarn_twitter_sample_words\n",
    "    GROUP BY word\n",
    "    ORDER BY count DESC\n",
    "'''\n",
    "\n",
    "yarn.sql(query).show(5)"
   ]
  },
  {
   "cell_type": "code",
   "execution_count": 39,
   "metadata": {},
   "outputs": [
    {
     "name": "stdout",
     "output_type": "stream",
     "text": [
      "+-------------------+--------------+\n",
      "|               time|          word|\n",
      "+-------------------+--------------+\n",
      "|2023-03-15 22:15:30|            RT|\n",
      "|2023-03-15 22:15:30|@mckaywrigley:|\n",
      "|2023-03-15 22:15:30|            We|\n",
      "|2023-03-15 22:15:30|           are|\n",
      "|2023-03-15 22:15:30|           all|\n",
      "+-------------------+--------------+\n",
      "only showing top 5 rows\n",
      "\n",
      "CPU times: user 0 ns, sys: 4.42 ms, total: 4.42 ms\n",
      "Wall time: 591 ms\n"
     ]
    }
   ],
   "source": [
    "%%time\n",
    "yarn.sql('SELECT * FROM yarn_twitter_sample_words').show(5)"
   ]
  },
  {
   "cell_type": "code",
   "execution_count": 40,
   "metadata": {},
   "outputs": [
    {
     "name": "stderr",
     "output_type": "stream",
     "text": [
      "[Stage 35:===========================================>              (3 + 1) / 4]\r"
     ]
    },
    {
     "name": "stdout",
     "output_type": "stream",
     "text": [
      "CPU times: user 0 ns, sys: 6.03 ms, total: 6.03 ms\n",
      "Wall time: 1.21 s\n"
     ]
    },
    {
     "name": "stderr",
     "output_type": "stream",
     "text": [
      "                                                                                \r"
     ]
    },
    {
     "data": {
      "text/plain": [
       "34827421"
      ]
     },
     "execution_count": 40,
     "metadata": {},
     "output_type": "execute_result"
    }
   ],
   "source": [
    "%%time\n",
    "yarn.table('yarn_twitter_sample_words').count()"
   ]
  },
  {
   "cell_type": "code",
   "execution_count": 41,
   "metadata": {},
   "outputs": [
    {
     "name": "stderr",
     "output_type": "stream",
     "text": [
      "[Stage 40:===================================================>      (8 + 1) / 9]\r"
     ]
    },
    {
     "name": "stdout",
     "output_type": "stream",
     "text": [
      "CPU times: user 12.9 ms, sys: 23.2 ms, total: 36.1 ms\n",
      "Wall time: 32.8 s\n"
     ]
    },
    {
     "name": "stderr",
     "output_type": "stream",
     "text": [
      "                                                                                \r"
     ]
    },
    {
     "data": {
      "text/plain": [
       "28603658"
      ]
     },
     "execution_count": 41,
     "metadata": {},
     "output_type": "execute_result"
    }
   ],
   "source": [
    "%%time\n",
    "query = '''\n",
    " SELECT substr(time, 1, 13) time,\n",
    " word,\n",
    " count(*) count\n",
    " FROM yarn_twitter_sample_words\n",
    " GROUP BY time, word\n",
    "''' \n",
    "yarn.sql(query).count()"
   ]
  },
  {
   "cell_type": "code",
   "execution_count": 43,
   "metadata": {},
   "outputs": [
    {
     "name": "stderr",
     "output_type": "stream",
     "text": [
      "[Stage 46:===========================================>              (3 + 1) / 4]\r"
     ]
    },
    {
     "name": "stdout",
     "output_type": "stream",
     "text": [
      "+-----+-------+\n",
      "|count|  words|\n",
      "+-----+-------+\n",
      "|    1|2259387|\n",
      "|    2| 321173|\n",
      "|    3| 134057|\n",
      "|    4|  75277|\n",
      "|    5|  48716|\n",
      "+-----+-------+\n",
      "only showing top 5 rows\n",
      "\n",
      "CPU times: user 7.31 ms, sys: 10.9 ms, total: 18.2 ms\n",
      "Wall time: 8.28 s\n"
     ]
    },
    {
     "name": "stderr",
     "output_type": "stream",
     "text": [
      "                                                                                \r"
     ]
    }
   ],
   "source": [
    "%%time\n",
    "#등록 횟수가 적은 단어의 수 조사\n",
    "\n",
    "query = '''\n",
    "    SELECT t.count, count(*) words\n",
    "    FROM (\n",
    "    SELECT word, count(*) count FROM yarn_twitter_sample_words\n",
    "    GROUP BY word\n",
    "    ) t\n",
    "    GROUP BY 1\n",
    "    ORDER BY 1\n",
    "'''\n",
    "\n",
    "yarn.sql(query).show(5)"
   ]
  },
  {
   "cell_type": "code",
   "execution_count": 44,
   "metadata": {},
   "outputs": [
    {
     "name": "stderr",
     "output_type": "stream",
     "text": [
      "[Stage 52:>                                                         (0 + 1) / 1]\r"
     ]
    },
    {
     "name": "stdout",
     "output_type": "stream",
     "text": [
      "+--------------------+-----+--------+\n",
      "|                word|count|category|\n",
      "+--------------------+-----+--------+\n",
      "|            time(any|    1| COUNT=1|\n",
      "|https://t.co/0Bp6...|    1| COUNT=1|\n",
      "|                hope|10093|    hope|\n",
      "|                some|28064|    some|\n",
      "|              online| 2839|  online|\n",
      "|                 ...| 5368|     ...|\n",
      "|            #杭州spa| 1289|#杭州spa|\n",
      "|               still|24013|   still|\n",
      "|     @CaitlynMFoster|    1| COUNT=1|\n",
      "|           @FrogBorg|    3| COUNT=3|\n",
      "+--------------------+-----+--------+\n",
      "only showing top 10 rows\n",
      "\n",
      "CPU times: user 5.21 ms, sys: 15.1 ms, total: 20.3 ms\n",
      "Wall time: 8.77 s\n"
     ]
    },
    {
     "name": "stderr",
     "output_type": "stream",
     "text": [
      "                                                                                \r"
     ]
    }
   ],
   "source": [
    "%%time\n",
    "# 단어를 카테고리로 나누는 디멘전 테이블\n",
    "\n",
    "query = '''\n",
    " SELECT word, count,\n",
    "     IF(count > 1000, word, concat('COUNT=', count)) category\n",
    " FROM (\n",
    "     SELECT word, count(*) count FROM yarn_twitter_sample_words\n",
    "     GROUP BY 1\n",
    " ) t\n",
    "'''\n",
    "\n",
    "yarn.sql(query).show(10)"
   ]
  },
  {
   "cell_type": "code",
   "execution_count": 45,
   "metadata": {},
   "outputs": [
    {
     "name": "stdout",
     "output_type": "stream",
     "text": [
      "CPU times: user 3.08 ms, sys: 3.48 ms, total: 6.56 ms\n",
      "Wall time: 163 ms\n"
     ]
    }
   ],
   "source": [
    "%%time\n",
    "yarn.sql(query).createOrReplaceTempView('word_category')"
   ]
  },
  {
   "cell_type": "code",
   "execution_count": 46,
   "metadata": {},
   "outputs": [
    {
     "name": "stderr",
     "output_type": "stream",
     "text": [
      "                                                                                \r"
     ]
    },
    {
     "name": "stdout",
     "output_type": "stream",
     "text": [
      "+-------------+---------+-----+\n",
      "|         time| category|count|\n",
      "+-------------+---------+-----+\n",
      "|2023-03-21 16|  COUNT=3| 8350|\n",
      "|2023-03-16 12| COUNT=21| 1384|\n",
      "|2023-03-17 00|COUNT=118|  111|\n",
      "|2023-03-16 01|COUNT=109|  192|\n",
      "|2023-03-18 14|COUNT=300|   42|\n",
      "+-------------+---------+-----+\n",
      "only showing top 5 rows\n",
      "\n"
     ]
    },
    {
     "name": "stderr",
     "output_type": "stream",
     "text": [
      "                                                                                \r"
     ]
    },
    {
     "name": "stdout",
     "output_type": "stream",
     "text": [
      "CPU times: user 128 ms, sys: 211 ms, total: 339 ms\n",
      "Wall time: 3min 51s\n"
     ]
    },
    {
     "data": {
      "text/plain": [
       "220243"
      ]
     },
     "execution_count": 46,
     "metadata": {},
     "output_type": "execute_result"
    }
   ],
   "source": [
    "%%time\n",
    "# spark 데이터프레임\n",
    "# 1시간마다 카테고리별로 그룹화하여 집계\n",
    "query = '''\n",
    " SELECT substr(a.time, 1, 13) time, b.category, count(*) count\n",
    " FROM words a\n",
    " LEFT JOIN word_category b ON a.word = b.word\n",
    " GROUP BY 1, 2\n",
    "'''\n",
    "\n",
    "yarn.sql(query).show(5)\n",
    "yarn.sql(query).count()"
   ]
  },
  {
   "cell_type": "code",
   "execution_count": 47,
   "metadata": {},
   "outputs": [
    {
     "name": "stderr",
     "output_type": "stream",
     "text": [
      "                                                                                \r"
     ]
    },
    {
     "name": "stdout",
     "output_type": "stream",
     "text": [
      "+-------------+---------+-----+\n",
      "|         time| category|count|\n",
      "+-------------+---------+-----+\n",
      "|2023-03-16 17|COUNT=121|  321|\n",
      "|2023-03-21 16|  COUNT=3| 8350|\n",
      "|2023-03-16 00| COUNT=29| 1609|\n",
      "|2023-03-21 19|COUNT=858|   85|\n",
      "|2023-03-17 13|COUNT=117|  273|\n",
      "+-------------+---------+-----+\n",
      "only showing top 5 rows\n",
      "\n"
     ]
    },
    {
     "name": "stderr",
     "output_type": "stream",
     "text": [
      "[Stage 89:===================================================>      (8 + 1) / 9]\r"
     ]
    },
    {
     "name": "stdout",
     "output_type": "stream",
     "text": [
      "CPU times: user 57 ms, sys: 40.4 ms, total: 97.4 ms\n",
      "Wall time: 57.8 s\n"
     ]
    },
    {
     "name": "stderr",
     "output_type": "stream",
     "text": [
      "                                                                                \r"
     ]
    },
    {
     "data": {
      "text/plain": [
       "220243"
      ]
     },
     "execution_count": 47,
     "metadata": {},
     "output_type": "execute_result"
    }
   ],
   "source": [
    "%%time\n",
    "# hdfs에 저장되어있는 테이블\n",
    "# 1시간마다 카테고리별로 그룹화하여 집계\n",
    "query = '''\n",
    " SELECT substr(a.time, 1, 13) time, b.category, count(*) count\n",
    " FROM yarn_twitter_sample_words a\n",
    " LEFT JOIN word_category b ON a.word = b.word\n",
    " GROUP BY 1, 2\n",
    "'''\n",
    "\n",
    "yarn.sql(query).show(5)\n",
    "yarn.sql(query).count()"
   ]
  },
  {
   "cell_type": "code",
   "execution_count": 48,
   "metadata": {},
   "outputs": [
    {
     "name": "stderr",
     "output_type": "stream",
     "text": [
      "                                                                                \r"
     ]
    },
    {
     "name": "stdout",
     "output_type": "stream",
     "text": [
      "CPU times: user 265 ms, sys: 1.84 s, total: 2.11 s\n",
      "Wall time: 41.2 s\n"
     ]
    },
    {
     "data": {
      "text/html": [
       "<div>\n",
       "<style scoped>\n",
       "    .dataframe tbody tr th:only-of-type {\n",
       "        vertical-align: middle;\n",
       "    }\n",
       "\n",
       "    .dataframe tbody tr th {\n",
       "        vertical-align: top;\n",
       "    }\n",
       "\n",
       "    .dataframe thead th {\n",
       "        text-align: right;\n",
       "    }\n",
       "</style>\n",
       "<table border=\"1\" class=\"dataframe\">\n",
       "  <thead>\n",
       "    <tr style=\"text-align: right;\">\n",
       "      <th></th>\n",
       "      <th>time</th>\n",
       "      <th>category</th>\n",
       "      <th>count</th>\n",
       "    </tr>\n",
       "  </thead>\n",
       "  <tbody>\n",
       "    <tr>\n",
       "      <th>0</th>\n",
       "      <td>2023-03-21 16</td>\n",
       "      <td>COUNT=3</td>\n",
       "      <td>8350</td>\n",
       "    </tr>\n",
       "    <tr>\n",
       "      <th>1</th>\n",
       "      <td>2023-03-16 12</td>\n",
       "      <td>COUNT=21</td>\n",
       "      <td>1384</td>\n",
       "    </tr>\n",
       "    <tr>\n",
       "      <th>2</th>\n",
       "      <td>2023-03-17 00</td>\n",
       "      <td>COUNT=118</td>\n",
       "      <td>111</td>\n",
       "    </tr>\n",
       "    <tr>\n",
       "      <th>3</th>\n",
       "      <td>2023-03-16 01</td>\n",
       "      <td>COUNT=109</td>\n",
       "      <td>192</td>\n",
       "    </tr>\n",
       "    <tr>\n",
       "      <th>4</th>\n",
       "      <td>2023-03-18 14</td>\n",
       "      <td>COUNT=300</td>\n",
       "      <td>42</td>\n",
       "    </tr>\n",
       "  </tbody>\n",
       "</table>\n",
       "</div>"
      ],
      "text/plain": [
       "            time   category  count\n",
       "0  2023-03-21 16    COUNT=3   8350\n",
       "1  2023-03-16 12   COUNT=21   1384\n",
       "2  2023-03-17 00  COUNT=118    111\n",
       "3  2023-03-16 01  COUNT=109    192\n",
       "4  2023-03-18 14  COUNT=300     42"
      ]
     },
     "execution_count": 48,
     "metadata": {},
     "output_type": "execute_result"
    }
   ],
   "source": [
    "%%time\n",
    "result = yarn.sql(query).toPandas()\n",
    "result.head()"
   ]
  },
  {
   "cell_type": "code",
   "execution_count": 49,
   "metadata": {},
   "outputs": [
    {
     "data": {
      "text/html": [
       "<div>\n",
       "<style scoped>\n",
       "    .dataframe tbody tr th:only-of-type {\n",
       "        vertical-align: middle;\n",
       "    }\n",
       "\n",
       "    .dataframe tbody tr th {\n",
       "        vertical-align: top;\n",
       "    }\n",
       "\n",
       "    .dataframe thead th {\n",
       "        text-align: right;\n",
       "    }\n",
       "</style>\n",
       "<table border=\"1\" class=\"dataframe\">\n",
       "  <thead>\n",
       "    <tr style=\"text-align: right;\">\n",
       "      <th></th>\n",
       "      <th>time</th>\n",
       "      <th>category</th>\n",
       "      <th>count</th>\n",
       "    </tr>\n",
       "  </thead>\n",
       "  <tbody>\n",
       "    <tr>\n",
       "      <th>220238</th>\n",
       "      <td>2023-03-21 00</td>\n",
       "      <td>dare</td>\n",
       "      <td>3</td>\n",
       "    </tr>\n",
       "    <tr>\n",
       "      <th>220239</th>\n",
       "      <td>2023-03-16 22</td>\n",
       "      <td>fool</td>\n",
       "      <td>30</td>\n",
       "    </tr>\n",
       "    <tr>\n",
       "      <th>220240</th>\n",
       "      <td>2023-03-15 22</td>\n",
       "      <td>haven't</td>\n",
       "      <td>58</td>\n",
       "    </tr>\n",
       "    <tr>\n",
       "      <th>220241</th>\n",
       "      <td>2023-03-22 00</td>\n",
       "      <td>picture</td>\n",
       "      <td>6</td>\n",
       "    </tr>\n",
       "    <tr>\n",
       "      <th>220242</th>\n",
       "      <td>2023-03-17 12</td>\n",
       "      <td>piece</td>\n",
       "      <td>50</td>\n",
       "    </tr>\n",
       "  </tbody>\n",
       "</table>\n",
       "</div>"
      ],
      "text/plain": [
       "                 time category  count\n",
       "220238  2023-03-21 00     dare      3\n",
       "220239  2023-03-16 22     fool     30\n",
       "220240  2023-03-15 22  haven't     58\n",
       "220241  2023-03-22 00  picture      6\n",
       "220242  2023-03-17 12    piece     50"
      ]
     },
     "execution_count": 49,
     "metadata": {},
     "output_type": "execute_result"
    }
   ],
   "source": [
    "result.tail()"
   ]
  },
  {
   "cell_type": "code",
   "execution_count": null,
   "metadata": {},
   "outputs": [],
   "source": []
  }
 ],
 "metadata": {
  "kernelspec": {
   "display_name": "Python 3",
   "language": "python",
   "name": "python3"
  },
  "language_info": {
   "codemirror_mode": {
    "name": "ipython",
    "version": 3
   },
   "file_extension": ".py",
   "mimetype": "text/x-python",
   "name": "python",
   "nbconvert_exporter": "python",
   "pygments_lexer": "ipython3",
   "version": "3.8.10"
  },
  "orig_nbformat": 4
 },
 "nbformat": 4,
 "nbformat_minor": 2
}
