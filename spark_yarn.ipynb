{
 "cells": [
  {
   "cell_type": "code",
   "execution_count": 2,
   "metadata": {},
   "outputs": [
    {
     "ename": "",
     "evalue": "",
     "output_type": "error",
     "traceback": [
      "\u001b[1;31mThe Kernel crashed while executing code in the the current cell or a previous cell. Please review the code in the cell(s) to identify a possible cause of the failure. Click <a href='https://aka.ms/vscodeJupyterKernelCrash'>here</a> for more info. View Jupyter <a href='command:jupyter.viewOutput'>log</a> for further details."
     ]
    }
   ],
   "source": [
    "#SparkSession의 연결을 끊기 위하여\n",
    "quit()"
   ]
  },
  {
   "cell_type": "markdown",
   "metadata": {},
   "source": [
    "# Spark 데이터 파이프라인 - yarn"
   ]
  },
  {
   "cell_type": "code",
   "execution_count": 1,
   "metadata": {},
   "outputs": [],
   "source": [
    "from pyspark.sql import SparkSession\n",
    "from pyspark.sql import Row"
   ]
  },
  {
   "cell_type": "markdown",
   "metadata": {},
   "source": [
    "## SparkSession\n",
    "\n",
    "- spark의 기능의 시작점\n",
    "- 데이터 프레임 기능을 사용하기 위함"
   ]
  },
  {
   "cell_type": "code",
   "execution_count": 4,
   "metadata": {},
   "outputs": [
    {
     "name": "stdout",
     "output_type": "stream",
     "text": [
      ":: loading settings :: url = jar:file:/usr/local/spark-3.3.2-bin-hadoop3/jars/ivy-2.5.1.jar!/org/apache/ivy/core/settings/ivysettings.xml\n"
     ]
    },
    {
     "name": "stderr",
     "output_type": "stream",
     "text": [
      "Ivy Default Cache set to: /home/bigdata/.ivy2/cache\n",
      "The jars for the packages stored in: /home/bigdata/.ivy2/jars\n",
      "org.mongodb.spark#mongo-spark-connector_2.12 added as a dependency\n",
      ":: resolving dependencies :: org.apache.spark#spark-submit-parent-31e3b474-dc24-482e-8a47-a6531e5c5985;1.0\n",
      "\tconfs: [default]\n",
      "\tfound org.mongodb.spark#mongo-spark-connector_2.12;3.0.1 in central\n",
      "\tfound org.mongodb#mongodb-driver-sync;4.0.5 in central\n",
      "\tfound org.mongodb#bson;4.0.5 in central\n",
      "\tfound org.mongodb#mongodb-driver-core;4.0.5 in central\n",
      ":: resolution report :: resolve 258ms :: artifacts dl 9ms\n",
      "\t:: modules in use:\n",
      "\torg.mongodb#bson;4.0.5 from central in [default]\n",
      "\torg.mongodb#mongodb-driver-core;4.0.5 from central in [default]\n",
      "\torg.mongodb#mongodb-driver-sync;4.0.5 from central in [default]\n",
      "\torg.mongodb.spark#mongo-spark-connector_2.12;3.0.1 from central in [default]\n",
      "\t---------------------------------------------------------------------\n",
      "\t|                  |            modules            ||   artifacts   |\n",
      "\t|       conf       | number| search|dwnlded|evicted|| number|dwnlded|\n",
      "\t---------------------------------------------------------------------\n",
      "\t|      default     |   4   |   0   |   0   |   0   ||   4   |   0   |\n",
      "\t---------------------------------------------------------------------\n",
      ":: retrieving :: org.apache.spark#spark-submit-parent-31e3b474-dc24-482e-8a47-a6531e5c5985\n",
      "\tconfs: [default]\n",
      "\t0 artifacts copied, 4 already retrieved (0kB/7ms)\n"
     ]
    },
    {
     "name": "stdout",
     "output_type": "stream",
     "text": [
      "23/03/27 17:49:47 WARN NativeCodeLoader: Unable to load native-hadoop library for your platform... using builtin-java classes where applicable\n"
     ]
    },
    {
     "name": "stderr",
     "output_type": "stream",
     "text": [
      "Setting default log level to \"WARN\".\n",
      "To adjust logging level use sc.setLogLevel(newLevel). For SparkR, use setLogLevel(newLevel).\n"
     ]
    },
    {
     "name": "stdout",
     "output_type": "stream",
     "text": [
      "23/03/27 17:49:51 WARN Client: Neither spark.yarn.jars nor spark.yarn.archive is set, falling back to uploading libraries under SPARK_HOME.\n",
      "23/03/27 17:50:08 WARN Client: Same path resource file:///home/bigdata/.ivy2/jars/org.mongodb.spark_mongo-spark-connector_2.12-3.0.1.jar added multiple times to distributed cache.\n",
      "23/03/27 17:50:08 WARN Client: Same path resource file:///home/bigdata/.ivy2/jars/org.mongodb_mongodb-driver-sync-4.0.5.jar added multiple times to distributed cache.\n",
      "23/03/27 17:50:08 WARN Client: Same path resource file:///home/bigdata/.ivy2/jars/org.mongodb_bson-4.0.5.jar added multiple times to distributed cache.\n",
      "23/03/27 17:50:08 WARN Client: Same path resource file:///home/bigdata/.ivy2/jars/org.mongodb_mongodb-driver-core-4.0.5.jar added multiple times to distributed cache.\n",
      "CPU times: user 15.4 ms, sys: 75 ms, total: 90.4 ms\n",
      "Wall time: 37.2 s\n"
     ]
    }
   ],
   "source": [
    "%%time\n",
    "yarn = SparkSession\\\n",
    "        .builder\\\n",
    "        .master('yarn')\\\n",
    "        .appName('twitter_yarn')\\\n",
    "        .config('spark.submit.deployMode', 'client')\\\n",
    "        .config('spark.executor.instances', 4)\\\n",
    "        .config('spark.executor.memory', '2g')\\\n",
    "        .config('spark.driver.memory', '2g')\\\n",
    "        .config('spark.jars.packages', 'org.mongodb.spark:mongo-spark-connector_2.12:3.0.1')\\\n",
    "        .getOrCreate()"
   ]
  },
  {
   "cell_type": "code",
   "execution_count": 5,
   "metadata": {},
   "outputs": [
    {
     "data": {
      "text/plain": [
       "[('spark.eventLog.enabled', 'true'),\n",
       " ('spark.executor.instances', '4'),\n",
       " ('spark.driver.extraJavaOptions',\n",
       "  '-XX:+IgnoreUnrecognizedVMOptions --add-opens=java.base/java.lang=ALL-UNNAMED --add-opens=java.base/java.lang.invoke=ALL-UNNAMED --add-opens=java.base/java.lang.reflect=ALL-UNNAMED --add-opens=java.base/java.io=ALL-UNNAMED --add-opens=java.base/java.net=ALL-UNNAMED --add-opens=java.base/java.nio=ALL-UNNAMED --add-opens=java.base/java.util=ALL-UNNAMED --add-opens=java.base/java.util.concurrent=ALL-UNNAMED --add-opens=java.base/java.util.concurrent.atomic=ALL-UNNAMED --add-opens=java.base/sun.nio.ch=ALL-UNNAMED --add-opens=java.base/sun.nio.cs=ALL-UNNAMED --add-opens=java.base/sun.security.action=ALL-UNNAMED --add-opens=java.base/sun.util.calendar=ALL-UNNAMED --add-opens=java.security.jgss/sun.security.krb5=ALL-UNNAMED'),\n",
       " ('spark.jars.packages', 'org.mongodb.spark:mongo-spark-connector_2.12:3.0.1'),\n",
       " ('spark.driver.appUIAddress', 'http://master:4040'),\n",
       " ('spark.driver.port', '34833'),\n",
       " ('spark.org.apache.hadoop.yarn.server.webproxy.amfilter.AmIpFilter.param.PROXY_HOSTS',\n",
       "  'master'),\n",
       " ('spark.sql.warehouse.dir', 'hdfs://master/user/bigdata/spark-warehouse'),\n",
       " ('spark.ui.proxyBase', '/proxy/application_1679906880075_0001'),\n",
       " ('spark.executorEnv.PYTHONPATH',\n",
       "  '{{PWD}}/pyspark.zip<CPS>{{PWD}}/py4j-0.10.9.5-src.zip<CPS>{{PWD}}/org.mongodb.spark_mongo-spark-connector_2.12-3.0.1.jar<CPS>{{PWD}}/org.mongodb_mongodb-driver-sync-4.0.5.jar<CPS>{{PWD}}/org.mongodb_bson-4.0.5.jar<CPS>{{PWD}}/org.mongodb_mongodb-driver-core-4.0.5.jar'),\n",
       " ('spark.ui.killEnabled', 'true'),\n",
       " ('spark.eventLog.dir', 'hdfs://master/user/bigdata/spark_eventLog'),\n",
       " ('spark.ui.port', '4040'),\n",
       " ('spark.app.id', 'application_1679906880075_0001'),\n",
       " ('spark.repl.local.jars',\n",
       "  'file:///home/bigdata/.ivy2/jars/org.mongodb.spark_mongo-spark-connector_2.12-3.0.1.jar,file:///home/bigdata/.ivy2/jars/org.mongodb_mongodb-driver-sync-4.0.5.jar,file:///home/bigdata/.ivy2/jars/org.mongodb_bson-4.0.5.jar,file:///home/bigdata/.ivy2/jars/org.mongodb_mongodb-driver-core-4.0.5.jar'),\n",
       " ('spark.yarn.secondary.jars',\n",
       "  'org.mongodb.spark_mongo-spark-connector_2.12-3.0.1.jar,org.mongodb_mongodb-driver-sync-4.0.5.jar,org.mongodb_bson-4.0.5.jar,org.mongodb_mongodb-driver-core-4.0.5.jar'),\n",
       " ('spark.serializer.objectStreamReset', '100'),\n",
       " ('spark.submit.pyFiles',\n",
       "  '/home/bigdata/.ivy2/jars/org.mongodb.spark_mongo-spark-connector_2.12-3.0.1.jar,/home/bigdata/.ivy2/jars/org.mongodb_mongodb-driver-sync-4.0.5.jar,/home/bigdata/.ivy2/jars/org.mongodb_bson-4.0.5.jar,/home/bigdata/.ivy2/jars/org.mongodb_mongodb-driver-core-4.0.5.jar'),\n",
       " ('spark.submit.deployMode', 'client'),\n",
       " ('spark.ui.filters',\n",
       "  'org.apache.hadoop.yarn.server.webproxy.amfilter.AmIpFilter'),\n",
       " ('spark.app.startTime', '1679906987573'),\n",
       " ('spark.driver.host', 'master'),\n",
       " ('spark.app.name', 'twitter_yarn'),\n",
       " ('spark.ui.enabled', 'true'),\n",
       " ('spark.executor.id', 'driver'),\n",
       " ('spark.yarn.dist.pyFiles',\n",
       "  'file:///home/bigdata/.ivy2/jars/org.mongodb.spark_mongo-spark-connector_2.12-3.0.1.jar,file:///home/bigdata/.ivy2/jars/org.mongodb_mongodb-driver-sync-4.0.5.jar,file:///home/bigdata/.ivy2/jars/org.mongodb_bson-4.0.5.jar,file:///home/bigdata/.ivy2/jars/org.mongodb_mongodb-driver-core-4.0.5.jar'),\n",
       " ('spark.master', 'yarn'),\n",
       " ('spark.app.submitTime', '1679906987317'),\n",
       " ('spark.rdd.compress', 'True'),\n",
       " ('spark.executor.extraJavaOptions',\n",
       "  '-XX:+IgnoreUnrecognizedVMOptions --add-opens=java.base/java.lang=ALL-UNNAMED --add-opens=java.base/java.lang.invoke=ALL-UNNAMED --add-opens=java.base/java.lang.reflect=ALL-UNNAMED --add-opens=java.base/java.io=ALL-UNNAMED --add-opens=java.base/java.net=ALL-UNNAMED --add-opens=java.base/java.nio=ALL-UNNAMED --add-opens=java.base/java.util=ALL-UNNAMED --add-opens=java.base/java.util.concurrent=ALL-UNNAMED --add-opens=java.base/java.util.concurrent.atomic=ALL-UNNAMED --add-opens=java.base/sun.nio.ch=ALL-UNNAMED --add-opens=java.base/sun.nio.cs=ALL-UNNAMED --add-opens=java.base/sun.security.action=ALL-UNNAMED --add-opens=java.base/sun.util.calendar=ALL-UNNAMED --add-opens=java.security.jgss/sun.security.krb5=ALL-UNNAMED'),\n",
       " ('spark.yarn.dist.jars',\n",
       "  'file:///home/bigdata/.ivy2/jars/org.mongodb.spark_mongo-spark-connector_2.12-3.0.1.jar,file:///home/bigdata/.ivy2/jars/org.mongodb_mongodb-driver-sync-4.0.5.jar,file:///home/bigdata/.ivy2/jars/org.mongodb_bson-4.0.5.jar,file:///home/bigdata/.ivy2/jars/org.mongodb_mongodb-driver-core-4.0.5.jar'),\n",
       " ('spark.org.apache.hadoop.yarn.server.webproxy.amfilter.AmIpFilter.param.PROXY_URI_BASES',\n",
       "  'http://master:8088/proxy/application_1679906880075_0001'),\n",
       " ('spark.yarn.isPython', 'true'),\n",
       " ('spark.ui.showConsoleProgress', 'true')]"
      ]
     },
     "execution_count": 5,
     "metadata": {},
     "output_type": "execute_result"
    }
   ],
   "source": [
    "yarn.sparkContext.getConf().getAll()"
   ]
  },
  {
   "cell_type": "markdown",
   "metadata": {},
   "source": [
    "## 데이터 파이프라인"
   ]
  },
  {
   "cell_type": "code",
   "execution_count": 6,
   "metadata": {
    "scrolled": false
   },
   "outputs": [
    {
     "name": "stderr",
     "output_type": "stream",
     "text": [
      "                                                                                \r"
     ]
    },
    {
     "name": "stdout",
     "output_type": "stream",
     "text": [
      "CPU times: user 0 ns, sys: 16.3 ms, total: 16.3 ms\n",
      "Wall time: 17.8 s\n"
     ]
    }
   ],
   "source": [
    "%%time\n",
    "df = yarn.read.format('mongo')\\\n",
    "               .option('uri', 'mongodb://192.168.56.101:27017/twitter.sample')\\\n",
    "               .load()\n",
    "\n",
    "df.createOrReplaceTempView('tweets')"
   ]
  },
  {
   "cell_type": "code",
   "execution_count": 7,
   "metadata": {},
   "outputs": [
    {
     "name": "stdout",
     "output_type": "stream",
     "text": [
      "CPU times: user 1e+03 ns, sys: 1e+03 ns, total: 2 µs\n",
      "Wall time: 5.01 µs\n"
     ]
    },
    {
     "data": {
      "text/plain": [
       "pyspark.sql.dataframe.DataFrame"
      ]
     },
     "execution_count": 7,
     "metadata": {},
     "output_type": "execute_result"
    }
   ],
   "source": [
    "%%time\n",
    "\n",
    "type(df)"
   ]
  },
  {
   "cell_type": "markdown",
   "metadata": {},
   "source": [
    "mongoDB로부터 저장되어있는 데이터를 불러오고 데이터프레임의 형태로 저장합니다.\n",
    "\n",
    "`createOrReplaceTempView`함수로 `sql`을 사용하여 핸들링할 수 있도록 `view`에 `tweets`라는 이름으로 등록합니다."
   ]
  },
  {
   "cell_type": "markdown",
   "metadata": {},
   "source": [
    "### 전체 데이터 수 확인"
   ]
  },
  {
   "cell_type": "markdown",
   "metadata": {},
   "source": [
    "#### sql을 사용하여 조회"
   ]
  },
  {
   "cell_type": "code",
   "execution_count": 8,
   "metadata": {},
   "outputs": [
    {
     "name": "stderr",
     "output_type": "stream",
     "text": [
      "[Stage 1:=======================================================> (42 + 1) / 43]\r"
     ]
    },
    {
     "name": "stdout",
     "output_type": "stream",
     "text": [
      "+--------+\n",
      "|count(1)|\n",
      "+--------+\n",
      "| 7739109|\n",
      "+--------+\n",
      "\n",
      "CPU times: user 53.1 ms, sys: 101 ms, total: 154 ms\n",
      "Wall time: 1min 4s\n"
     ]
    },
    {
     "name": "stderr",
     "output_type": "stream",
     "text": [
      "\r",
      "                                                                                \r"
     ]
    }
   ],
   "source": [
    "%%time\n",
    "query ='''\n",
    "SELECT count(*)\n",
    "FROM tweets\n",
    "'''\n",
    "yarn.sql(query).show()"
   ]
  },
  {
   "cell_type": "markdown",
   "metadata": {},
   "source": [
    "#### Dataframe 함수를 사용하여 조회"
   ]
  },
  {
   "cell_type": "code",
   "execution_count": 9,
   "metadata": {},
   "outputs": [
    {
     "name": "stderr",
     "output_type": "stream",
     "text": [
      "[Stage 4:=======================================================> (42 + 1) / 43]\r"
     ]
    },
    {
     "name": "stdout",
     "output_type": "stream",
     "text": [
      "CPU times: user 74.5 ms, sys: 114 ms, total: 188 ms\n",
      "Wall time: 37.7 s\n"
     ]
    },
    {
     "name": "stderr",
     "output_type": "stream",
     "text": [
      "\r",
      "                                                                                \r"
     ]
    },
    {
     "data": {
      "text/plain": [
       "7739109"
      ]
     },
     "execution_count": 9,
     "metadata": {},
     "output_type": "execute_result"
    }
   ],
   "source": [
    "#d\n",
    "%%time\n",
    "df.count()"
   ]
  },
  {
   "cell_type": "markdown",
   "metadata": {},
   "source": [
    "전체 데이터의 수는 약 770만개입니다."
   ]
  },
  {
   "cell_type": "markdown",
   "metadata": {},
   "source": [
    "### 상위 5개 데이터 조회"
   ]
  },
  {
   "cell_type": "markdown",
   "metadata": {},
   "source": [
    "#### Sql 사용하여 조회"
   ]
  },
  {
   "cell_type": "code",
   "execution_count": 10,
   "metadata": {},
   "outputs": [
    {
     "name": "stderr",
     "output_type": "stream",
     "text": [
      "\r",
      "[Stage 7:>                                                          (0 + 1) / 1]\r"
     ]
    },
    {
     "name": "stdout",
     "output_type": "stream",
     "text": [
      "+--------------------+--------------------+--------------------+\n",
      "|                 _id|          _timestamp|                data|\n",
      "+--------------------+--------------------+--------------------+\n",
      "|{64102551db4069ef...|2023-03-14T16:42:...|{2023-03-14T07:42...|\n",
      "|{64102551db4069ef...|2023-03-14T16:42:...|{2023-03-14T07:42...|\n",
      "|{64102551db4069ef...|2023-03-14T16:42:...|{2023-03-14T07:42...|\n",
      "|{64102551db4069ef...|2023-03-14T16:42:...|{2023-03-14T07:42...|\n",
      "|{64102551db4069ef...|2023-03-14T16:42:...|{2023-03-14T07:42...|\n",
      "+--------------------+--------------------+--------------------+\n",
      "only showing top 5 rows\n",
      "\n",
      "CPU times: user 645 µs, sys: 9.03 ms, total: 9.68 ms\n",
      "Wall time: 2.95 s\n"
     ]
    },
    {
     "name": "stderr",
     "output_type": "stream",
     "text": [
      "\r",
      "                                                                                \r"
     ]
    }
   ],
   "source": [
    "%%time\n",
    "# 데이터 확인\n",
    "\n",
    "query = \"\"\"\n",
    "  SELECT *\n",
    "  FROM tweets\n",
    "\"\"\"\n",
    "yarn.sql(query).show(5)"
   ]
  },
  {
   "cell_type": "markdown",
   "metadata": {},
   "source": [
    "#### Dataframe 함수를 사용하여 조회"
   ]
  },
  {
   "cell_type": "code",
   "execution_count": 25,
   "metadata": {
    "scrolled": true
   },
   "outputs": [
    {
     "name": "stdout",
     "output_type": "stream",
     "text": [
      "+--------------------+--------------------+--------------------+\n",
      "|                 _id|          _timestamp|                data|\n",
      "+--------------------+--------------------+--------------------+\n",
      "|{64102551db4069ef...|2023-03-14T16:42:...|{2023-03-14T07:42...|\n",
      "|{64102551db4069ef...|2023-03-14T16:42:...|{2023-03-14T07:42...|\n",
      "|{64102551db4069ef...|2023-03-14T16:42:...|{2023-03-14T07:42...|\n",
      "|{64102551db4069ef...|2023-03-14T16:42:...|{2023-03-14T07:42...|\n",
      "|{64102551db4069ef...|2023-03-14T16:42:...|{2023-03-14T07:42...|\n",
      "+--------------------+--------------------+--------------------+\n",
      "only showing top 5 rows\n",
      "\n",
      "CPU times: user 2.02 ms, sys: 2.16 ms, total: 4.18 ms\n",
      "Wall time: 298 ms\n"
     ]
    }
   ],
   "source": [
    "%%time\n",
    "df.show(5)"
   ]
  },
  {
   "cell_type": "markdown",
   "metadata": {},
   "source": [
    "##### df.head()"
   ]
  },
  {
   "cell_type": "code",
   "execution_count": 16,
   "metadata": {
    "scrolled": false
   },
   "outputs": [
    {
     "data": {
      "text/plain": [
       "[Row(_id=Row(oid='64102551db4069eff534f0c2'), _timestamp='2023-03-14T16:42:09.451647+09:00', data=Row(created_at='2023-03-14T07:42:03.000Z', edit_history_tweet_ids=['1635546820548993024'], id='1635546820548993024', lang='fr', text='RT @Mweilc: Après @AmiensMetropole fin de parcours des tableaux de la Chambre du Roi enfin visibles à hauteur d’homme  @CVersailles avec en…', withheld=None)),\n",
       " Row(_id=Row(oid='64102551db4069eff534f0c3'), _timestamp='2023-03-14T16:42:09.474800+09:00', data=Row(created_at='2023-03-14T07:42:03.000Z', edit_history_tweet_ids=['1635546820523728897'], id='1635546820523728897', lang='en', text='@erdincciftci Good morning forever Erdin 🙏🔥', withheld=None)),\n",
       " Row(_id=Row(oid='64102551db4069eff534f0c4'), _timestamp='2023-03-14T16:42:09.476270+09:00', data=Row(created_at='2023-03-14T07:42:03.000Z', edit_history_tweet_ids=['1635546820540788736'], id='1635546820540788736', lang='en', text='@CheapremeBrand Am i right https://t.co/34FUg5Ed7e', withheld=None)),\n",
       " Row(_id=Row(oid='64102551db4069eff534f0c5'), _timestamp='2023-03-14T16:42:09.476917+09:00', data=Row(created_at='2023-03-14T07:42:03.000Z', edit_history_tweet_ids=['1635546820528029698'], id='1635546820528029698', lang='lt', text='@homerhsimpson Kad smo mazge', withheld=None)),\n",
       " Row(_id=Row(oid='64102551db4069eff534f0c6'), _timestamp='2023-03-14T16:42:09.477979+09:00', data=Row(created_at='2023-03-14T07:42:03.000Z', edit_history_tweet_ids=['1635546820549177345'], id='1635546820549177345', lang='en', text='RT @Joon_record: Goodmorning Fam 🌸🍬🍫 https://t.co/Sh1digrFFs', withheld=None))]"
      ]
     },
     "execution_count": 16,
     "metadata": {},
     "output_type": "execute_result"
    }
   ],
   "source": [
    "df.head(5)"
   ]
  },
  {
   "cell_type": "code",
   "execution_count": 15,
   "metadata": {},
   "outputs": [
    {
     "data": {
      "text/plain": [
       "pyspark.sql.types.Row"
      ]
     },
     "execution_count": 15,
     "metadata": {},
     "output_type": "execute_result"
    }
   ],
   "source": [
    "type(df.head(5)[0])"
   ]
  },
  {
   "cell_type": "markdown",
   "metadata": {},
   "source": [
    "`df.head(5)`를 통하여 조회할 수 있지만 `df.head(5)`는 로우 오브젝트를 반환합니다."
   ]
  },
  {
   "cell_type": "markdown",
   "metadata": {},
   "source": [
    "### 언어별 count 확인"
   ]
  },
  {
   "cell_type": "markdown",
   "metadata": {},
   "source": [
    "#### Sql 사용하여 조회"
   ]
  },
  {
   "cell_type": "code",
   "execution_count": 17,
   "metadata": {},
   "outputs": [
    {
     "name": "stderr",
     "output_type": "stream",
     "text": [
      "[Stage 16:======================================================> (42 + 1) / 43]\r"
     ]
    },
    {
     "name": "stdout",
     "output_type": "stream",
     "text": [
      "+----+-------+\n",
      "|lang|  count|\n",
      "+----+-------+\n",
      "|  en|2197064|\n",
      "|  ja|1708222|\n",
      "|  th| 484936|\n",
      "|  es| 467246|\n",
      "|  ko| 316200|\n",
      "+----+-------+\n",
      "only showing top 5 rows\n",
      "\n",
      "CPU times: user 75.3 ms, sys: 125 ms, total: 200 ms\n",
      "Wall time: 39.5 s\n"
     ]
    },
    {
     "name": "stderr",
     "output_type": "stream",
     "text": [
      "\r",
      "                                                                                \r"
     ]
    }
   ],
   "source": [
    "%%time\n",
    "#언어별 count 확인\n",
    "\n",
    "query = '''\n",
    "  SELECT data.lang as lang, count(*) count\n",
    "  FROM tweets\n",
    "  WHERE data.lang is not NULL\n",
    "  GROUP BY lang\n",
    "  ORDER BY count DESC;\n",
    "'''\n",
    "\n",
    "yarn.sql(query).show(5)"
   ]
  },
  {
   "cell_type": "markdown",
   "metadata": {},
   "source": [
    "#### Dataframe 함수를 사용하여 조회"
   ]
  },
  {
   "cell_type": "code",
   "execution_count": 20,
   "metadata": {},
   "outputs": [
    {
     "name": "stderr",
     "output_type": "stream",
     "text": [
      "[Stage 22:======================================================> (42 + 1) / 43]\r"
     ]
    },
    {
     "name": "stdout",
     "output_type": "stream",
     "text": [
      "+----+-------+\n",
      "|lang|  count|\n",
      "+----+-------+\n",
      "| art|  15009|\n",
      "|  en|2197064|\n",
      "|  vi|   8691|\n",
      "|  ne|   2113|\n",
      "|  ps|   1232|\n",
      "+----+-------+\n",
      "only showing top 5 rows\n",
      "\n",
      "CPU times: user 102 ms, sys: 60.5 ms, total: 162 ms\n",
      "Wall time: 34.9 s\n"
     ]
    },
    {
     "name": "stderr",
     "output_type": "stream",
     "text": [
      "\r",
      "                                                                                \r"
     ]
    }
   ],
   "source": [
    "%%time\n",
    "df.groupby('data.lang').count().show(5)"
   ]
  },
  {
   "cell_type": "markdown",
   "metadata": {},
   "source": [
    "### 영어로 작성된 tweet만 추출"
   ]
  },
  {
   "cell_type": "markdown",
   "metadata": {},
   "source": [
    "#### Sql 사용"
   ]
  },
  {
   "cell_type": "code",
   "execution_count": 21,
   "metadata": {},
   "outputs": [
    {
     "name": "stdout",
     "output_type": "stream",
     "text": [
      "+-------------------+--------------------+\n",
      "|               time|                text|\n",
      "+-------------------+--------------------+\n",
      "|2023-03-14 16:42:09|@erdincciftci Goo...|\n",
      "|2023-03-14 16:42:09|@CheapremeBrand A...|\n",
      "|2023-03-14 16:42:09|RT @Joon_record: ...|\n",
      "|2023-03-14 16:42:09|RT @TheRavenCrypt...|\n",
      "|2023-03-14 16:42:09|@gareth_lane He i...|\n",
      "+-------------------+--------------------+\n",
      "only showing top 5 rows\n",
      "\n",
      "CPU times: user 0 ns, sys: 5.94 ms, total: 5.94 ms\n",
      "Wall time: 812 ms\n"
     ]
    }
   ],
   "source": [
    "%%time\n",
    "#영어로 작성된 tweet만 추출\n",
    "\n",
    "query = \"\"\"\n",
    "  SELECT\n",
    "    DATE_FORMAT(_timestamp, \"yyyy-MM-dd HH:mm:ss\") as time,\n",
    "    data.text as text\n",
    "  FROM tweets\n",
    "  WHERE data.lang = 'en';\n",
    "\"\"\"\n",
    "\n",
    "en_tweets_sql = yarn.sql(query)\n",
    "en_tweets_sql.show(5)"
   ]
  },
  {
   "cell_type": "markdown",
   "metadata": {},
   "source": [
    "#### DataFrame 함수 사용"
   ]
  },
  {
   "cell_type": "code",
   "execution_count": 91,
   "metadata": {
    "scrolled": false
   },
   "outputs": [
    {
     "name": "stdout",
     "output_type": "stream",
     "text": [
      "+-------------------+--------------------+\n",
      "|               time|                text|\n",
      "+-------------------+--------------------+\n",
      "|2023-03-14 16:42:09|RT @Mweilc: Après...|\n",
      "|2023-03-14 16:42:09|@erdincciftci Goo...|\n",
      "|2023-03-14 16:42:09|@CheapremeBrand A...|\n",
      "|2023-03-14 16:42:09|@homerhsimpson Ka...|\n",
      "|2023-03-14 16:42:09|RT @Joon_record: ...|\n",
      "+-------------------+--------------------+\n",
      "only showing top 5 rows\n",
      "\n",
      "CPU times: user 2.55 ms, sys: 11.7 ms, total: 14.2 ms\n",
      "Wall time: 2.96 s\n"
     ]
    },
    {
     "name": "stderr",
     "output_type": "stream",
     "text": [
      "[Stage 40:=======================================>                (30 + 3) / 43]\r"
     ]
    }
   ],
   "source": [
    "%%time\n",
    "from pyspark.sql.functions import date_format\n",
    "en_tweets_sdf = df[['_timestamp', 'data.text']].withColumnRenamed('_timestamp','time')\n",
    "en_tweets_sdf = en_tweets_sdf.select(date_format('time', 'yyyy-MM-dd HH:mm:ss').alias('time'), en_tweets_sdf.text)\n",
    "en_tweets_sdf.show(5)"
   ]
  },
  {
   "cell_type": "markdown",
   "metadata": {},
   "source": [
    "### 샘플 추출"
   ]
  },
  {
   "cell_type": "code",
   "execution_count": 92,
   "metadata": {
    "scrolled": true
   },
   "outputs": [
    {
     "name": "stdout",
     "output_type": "stream",
     "text": [
      "CPU times: user 0 ns, sys: 9.91 ms, total: 9.91 ms\n",
      "Wall time: 2.75 s\n"
     ]
    },
    {
     "name": "stderr",
     "output_type": "stream",
     "text": [
      "\r",
      "                                                                                \r"
     ]
    },
    {
     "data": {
      "text/plain": [
       "[Row(time='2023-03-14 16:42:09', text='@erdincciftci Good morning forever Erdin 🙏🔥')]"
      ]
     },
     "execution_count": 92,
     "metadata": {},
     "output_type": "execute_result"
    }
   ],
   "source": [
    "%%time\n",
    "#샘플하나 추출\n",
    "en_tweets_sql.take(1)"
   ]
  },
  {
   "cell_type": "code",
   "execution_count": 93,
   "metadata": {},
   "outputs": [
    {
     "name": "stderr",
     "output_type": "stream",
     "text": [
      "\r",
      "[Stage 40:=======================================>                (30 + 3) / 43]\r"
     ]
    },
    {
     "name": "stdout",
     "output_type": "stream",
     "text": [
      "CPU times: user 0 ns, sys: 11.6 ms, total: 11.6 ms\n",
      "Wall time: 2.52 s\n"
     ]
    },
    {
     "name": "stderr",
     "output_type": "stream",
     "text": [
      "\r",
      "                                                                                \r"
     ]
    },
    {
     "data": {
      "text/plain": [
       "[Row(time='2023-03-14 16:42:09', text='RT @Mweilc: Après @AmiensMetropole fin de parcours des tableaux de la Chambre du Roi enfin visibles à hauteur d’homme  @CVersailles avec en…')]"
      ]
     },
     "execution_count": 93,
     "metadata": {},
     "output_type": "execute_result"
    },
    {
     "name": "stderr",
     "output_type": "stream",
     "text": [
      "\r",
      "[Stage 40:=======================================>                (30 + 3) / 43]\r"
     ]
    }
   ],
   "source": [
    "%%time\n",
    "en_tweets_sdf.take(1)"
   ]
  },
  {
   "cell_type": "markdown",
   "metadata": {},
   "source": [
    "### tweet의 text를 단어별로 split하는 함수\n",
    "- spark의 함수를 사용하여 진행"
   ]
  },
  {
   "cell_type": "code",
   "execution_count": 94,
   "metadata": {},
   "outputs": [
    {
     "name": "stdout",
     "output_type": "stream",
     "text": [
      "CPU times: user 8 µs, sys: 4 µs, total: 12 µs\n",
      "Wall time: 13.6 µs\n"
     ]
    }
   ],
   "source": [
    "%%time\n",
    "#tweet의 text를 단어별로 split하는 함수\n",
    "def text_split(row):\n",
    "  for word in row.text.split():\n",
    "    yield Row(time=row.time, word=word)\n",
    "  "
   ]
  },
  {
   "cell_type": "markdown",
   "metadata": {},
   "source": [
    "#### en_tweets_sql "
   ]
  },
  {
   "cell_type": "code",
   "execution_count": 95,
   "metadata": {
    "scrolled": false
   },
   "outputs": [
    {
     "name": "stderr",
     "output_type": "stream",
     "text": [
      "\r",
      "[Stage 40:===========>    (30 + 3) / 43][Stage 62:>                 (0 + 0) / 1]\r"
     ]
    },
    {
     "name": "stdout",
     "output_type": "stream",
     "text": [
      "CPU times: user 5.99 ms, sys: 13.5 ms, total: 19.5 ms\n",
      "Wall time: 2.07 s\n"
     ]
    },
    {
     "name": "stderr",
     "output_type": "stream",
     "text": [
      "\r",
      "[Stage 40:===========>    (30 + 3) / 43][Stage 62:>                 (0 + 1) / 1]\r",
      "\r",
      "                                                                                \r"
     ]
    },
    {
     "data": {
      "text/plain": [
       "[Row(time='2023-03-14 16:42:09', word='@erdincciftci'),\n",
       " Row(time='2023-03-14 16:42:09', word='Good'),\n",
       " Row(time='2023-03-14 16:42:09', word='morning'),\n",
       " Row(time='2023-03-14 16:42:09', word='forever'),\n",
       " Row(time='2023-03-14 16:42:09', word='Erdin')]"
      ]
     },
     "execution_count": 95,
     "metadata": {},
     "output_type": "execute_result"
    },
    {
     "name": "stderr",
     "output_type": "stream",
     "text": [
      "\r",
      "[Stage 40:=======================================>                (30 + 3) / 43]\r"
     ]
    }
   ],
   "source": [
    "%%time\n",
    "#단어별로 split한뒤에 5개 show\n",
    "en_tweets_sql.rdd.flatMap(text_split).take(5)"
   ]
  },
  {
   "cell_type": "code",
   "execution_count": 98,
   "metadata": {
    "scrolled": false
   },
   "outputs": [
    {
     "name": "stderr",
     "output_type": "stream",
     "text": [
      "[Stage 40:=======================================>                (30 + 3) / 43]\r"
     ]
    },
    {
     "name": "stdout",
     "output_type": "stream",
     "text": [
      "+-------------------+-------------+\n",
      "|               time|         word|\n",
      "+-------------------+-------------+\n",
      "|2023-03-14 16:42:09|@erdincciftci|\n",
      "|2023-03-14 16:42:09|         Good|\n",
      "|2023-03-14 16:42:09|      morning|\n",
      "|2023-03-14 16:42:09|      forever|\n",
      "|2023-03-14 16:42:09|        Erdin|\n",
      "+-------------------+-------------+\n",
      "only showing top 5 rows\n",
      "\n",
      "CPU times: user 100 ms, sys: 218 ms, total: 318 ms\n",
      "Wall time: 5.16 s\n"
     ]
    },
    {
     "name": "stderr",
     "output_type": "stream",
     "text": [
      "[Stage 40:=======================================>                (30 + 3) / 43]\r"
     ]
    }
   ],
   "source": [
    "%%time\n",
    "#단어별로 split한뒤에 데이터프레임으로 변경후 5개 show\n",
    "en_tweets_sql.rdd.flatMap(text_split).toDF().show(5)"
   ]
  },
  {
   "cell_type": "markdown",
   "metadata": {},
   "source": [
    "#### en_tweets_sdf"
   ]
  },
  {
   "cell_type": "code",
   "execution_count": 96,
   "metadata": {
    "scrolled": true
   },
   "outputs": [
    {
     "name": "stdout",
     "output_type": "stream",
     "text": [
      "CPU times: user 4.8 ms, sys: 16.1 ms, total: 20.9 ms\n",
      "Wall time: 2.51 s\n"
     ]
    },
    {
     "name": "stderr",
     "output_type": "stream",
     "text": [
      "\r",
      "                                                                                \r"
     ]
    },
    {
     "data": {
      "text/plain": [
       "[Row(time='2023-03-14 16:42:09', word='RT'),\n",
       " Row(time='2023-03-14 16:42:09', word='@Mweilc:'),\n",
       " Row(time='2023-03-14 16:42:09', word='Après'),\n",
       " Row(time='2023-03-14 16:42:09', word='@AmiensMetropole'),\n",
       " Row(time='2023-03-14 16:42:09', word='fin')]"
      ]
     },
     "execution_count": 96,
     "metadata": {},
     "output_type": "execute_result"
    },
    {
     "name": "stderr",
     "output_type": "stream",
     "text": [
      "[Stage 40:=======================================>                (30 + 3) / 43]\r"
     ]
    }
   ],
   "source": [
    "%%time\n",
    "en_tweets_sdf.rdd.flatMap(text_split).take(5)"
   ]
  },
  {
   "cell_type": "code",
   "execution_count": 99,
   "metadata": {},
   "outputs": [
    {
     "name": "stderr",
     "output_type": "stream",
     "text": [
      "\r",
      "[Stage 40:===========>    (30 + 3) / 43][Stage 66:>                 (0 + 0) / 1]\r",
      "\r",
      "                                                                                \r"
     ]
    },
    {
     "name": "stdout",
     "output_type": "stream",
     "text": [
      "+-------------------+----------------+\n",
      "|               time|            word|\n",
      "+-------------------+----------------+\n",
      "|2023-03-14 16:42:09|              RT|\n",
      "|2023-03-14 16:42:09|        @Mweilc:|\n",
      "|2023-03-14 16:42:09|           Après|\n",
      "|2023-03-14 16:42:09|@AmiensMetropole|\n",
      "|2023-03-14 16:42:09|             fin|\n",
      "+-------------------+----------------+\n",
      "only showing top 5 rows\n",
      "\n",
      "CPU times: user 0 ns, sys: 29.2 ms, total: 29.2 ms\n",
      "Wall time: 3.89 s\n"
     ]
    },
    {
     "name": "stderr",
     "output_type": "stream",
     "text": [
      "[Stage 40:=======================================>                (30 + 3) / 43]\r"
     ]
    }
   ],
   "source": [
    "%%time\n",
    "#단어별로 split한뒤에 데이터프레임으로 변경후 5개 show\n",
    "en_tweets_sdf.rdd.flatMap(text_split).toDF().show(5)"
   ]
  },
  {
   "cell_type": "markdown",
   "metadata": {},
   "source": [
    "### 단어별로 분리하고 데이터프레임으로 추출"
   ]
  },
  {
   "cell_type": "markdown",
   "metadata": {},
   "source": [
    "#### Sql 사용"
   ]
  },
  {
   "cell_type": "code",
   "execution_count": 101,
   "metadata": {
    "scrolled": true
   },
   "outputs": [
    {
     "name": "stderr",
     "output_type": "stream",
     "text": [
      "\r",
      "[Stage 40:===========>    (30 + 3) / 43][Stage 69:>                 (0 + 0) / 1]\r",
      "\r",
      "                                                                                \r"
     ]
    },
    {
     "name": "stdout",
     "output_type": "stream",
     "text": [
      "CPU times: user 8.81 ms, sys: 20.5 ms, total: 29.4 ms\n",
      "Wall time: 2.16 s\n"
     ]
    },
    {
     "name": "stderr",
     "output_type": "stream",
     "text": [
      "\r",
      "[Stage 40:=======================================>                (30 + 3) / 43]\r"
     ]
    }
   ],
   "source": [
    "%%time\n",
    "#단어별로 분리하고 데이터프레임으로 추출\n",
    "words_sql = en_tweets_sql.rdd.flatMap(text_split).toDF()\n",
    "words_sql.createOrReplaceTempView('words_sql')\n"
   ]
  },
  {
   "cell_type": "code",
   "execution_count": 105,
   "metadata": {
    "scrolled": false
   },
   "outputs": [
    {
     "name": "stdout",
     "output_type": "stream",
     "text": [
      "+-------------------+-------------+\n",
      "|               time|         word|\n",
      "+-------------------+-------------+\n",
      "|2023-03-14 16:42:09|@erdincciftci|\n",
      "|2023-03-14 16:42:09|         Good|\n",
      "|2023-03-14 16:42:09|      morning|\n",
      "|2023-03-14 16:42:09|      forever|\n",
      "|2023-03-14 16:42:09|        Erdin|\n",
      "+-------------------+-------------+\n",
      "only showing top 5 rows\n",
      "\n",
      "CPU times: user 0 ns, sys: 10.5 ms, total: 10.5 ms\n",
      "Wall time: 2.1 s\n"
     ]
    },
    {
     "name": "stderr",
     "output_type": "stream",
     "text": [
      "[Stage 40:=======================================>                (30 + 3) / 43]\r"
     ]
    }
   ],
   "source": [
    "%%time\n",
    "#words의 상위 5개 show\n",
    "query = '''\n",
    "    SELECT *\n",
    "    FROM words_sql\n",
    "'''\n",
    "\n",
    "yarn.sql(query).show(5)"
   ]
  },
  {
   "cell_type": "code",
   "execution_count": 106,
   "metadata": {},
   "outputs": [
    {
     "name": "stderr",
     "output_type": "stream",
     "text": [
      "[Stage 40:===========>    (30 + 3) / 43][Stage 75:===============>(42 + 1) / 43]\r"
     ]
    },
    {
     "name": "stdout",
     "output_type": "stream",
     "text": [
      "+--------+\n",
      "|count(1)|\n",
      "+--------+\n",
      "|34827421|\n",
      "+--------+\n",
      "\n",
      "CPU times: user 64.3 ms, sys: 160 ms, total: 224 ms\n",
      "Wall time: 1min 12s\n"
     ]
    },
    {
     "name": "stderr",
     "output_type": "stream",
     "text": [
      "[Stage 40:=======================================>                (30 + 3) / 43]\r"
     ]
    }
   ],
   "source": [
    "%%time\n",
    "#개수 확인\n",
    "query = \"\"\"\n",
    "    SELECT count(*) \n",
    "    FROM words_sql\n",
    "\"\"\"\n",
    "\n",
    "yarn.sql(query).show()"
   ]
  },
  {
   "cell_type": "markdown",
   "metadata": {},
   "source": [
    "#### DataFrame 함수 사용"
   ]
  },
  {
   "cell_type": "code",
   "execution_count": 117,
   "metadata": {},
   "outputs": [
    {
     "name": "stdout",
     "output_type": "stream",
     "text": [
      "CPU times: user 1.47 ms, sys: 23.5 ms, total: 25 ms\n",
      "Wall time: 1.98 s\n"
     ]
    },
    {
     "name": "stderr",
     "output_type": "stream",
     "text": [
      "[Stage 40:=======================================>                (30 + 3) / 43]\r"
     ]
    }
   ],
   "source": [
    "%%time\n",
    "#단어별로 분리하고 데이터프레임으로 추출\n",
    "words_sdf = en_tweets_sdf.rdd.flatMap(text_split).toDF()\n"
   ]
  },
  {
   "cell_type": "code",
   "execution_count": 118,
   "metadata": {},
   "outputs": [
    {
     "name": "stdout",
     "output_type": "stream",
     "text": [
      "+-------------------+----------------+\n",
      "|               time|            word|\n",
      "+-------------------+----------------+\n",
      "|2023-03-14 16:42:09|              RT|\n",
      "|2023-03-14 16:42:09|        @Mweilc:|\n",
      "|2023-03-14 16:42:09|           Après|\n",
      "|2023-03-14 16:42:09|@AmiensMetropole|\n",
      "|2023-03-14 16:42:09|             fin|\n",
      "+-------------------+----------------+\n",
      "only showing top 5 rows\n",
      "\n",
      "CPU times: user 0 ns, sys: 11.6 ms, total: 11.6 ms\n",
      "Wall time: 2.07 s\n"
     ]
    },
    {
     "name": "stderr",
     "output_type": "stream",
     "text": [
      "\r",
      "[Stage 40:===========>    (30 + 3) / 43][Stage 84:>                 (0 + 0) / 1]\r",
      "\r",
      "                                                                                \r"
     ]
    }
   ],
   "source": [
    "%%time\n",
    "#words_sdf 상위 5개 show\n",
    "words_sdf.show(5)"
   ]
  },
  {
   "cell_type": "code",
   "execution_count": 121,
   "metadata": {},
   "outputs": [
    {
     "name": "stdout",
     "output_type": "stream",
     "text": [
      "CPU times: user 1e+03 ns, sys: 0 ns, total: 1e+03 ns\n",
      "Wall time: 4.05 µs\n"
     ]
    },
    {
     "name": "stderr",
     "output_type": "stream",
     "text": [
      "[Stage 40:=======================================>                (30 + 3) / 43]\r"
     ]
    }
   ],
   "source": [
    "%%time\n",
    "#개수 확인\n",
    "#words_sdf.count()\n"
   ]
  },
  {
   "cell_type": "markdown",
   "metadata": {},
   "source": [
    "개수확인할때 Error 발생"
   ]
  },
  {
   "cell_type": "markdown",
   "metadata": {},
   "source": [
    "### 물리적인 테이블로 보관\n",
    "- hdfs의 spark-warehour에 저장"
   ]
  },
  {
   "cell_type": "code",
   "execution_count": 130,
   "metadata": {},
   "outputs": [
    {
     "name": "stdout",
     "output_type": "stream",
     "text": [
      "rmr: DEPRECATED: Please use '-rm -r' instead.\n",
      "Deleted spark-warehouse/yarn_twitter_sample_words\n"
     ]
    },
    {
     "name": "stderr",
     "output_type": "stream",
     "text": [
      "\r",
      "[Stage 40:=======================================>                (30 + 3) / 43]\r"
     ]
    }
   ],
   "source": [
    "!hdfs dfs -rmr spark-warehouse/yarn_twitter_sample_words"
   ]
  },
  {
   "cell_type": "code",
   "execution_count": 132,
   "metadata": {},
   "outputs": [],
   "source": [
    "!hdfs dfs -expunge"
   ]
  },
  {
   "cell_type": "markdown",
   "metadata": {},
   "source": [
    "기존폴더 제거"
   ]
  },
  {
   "cell_type": "code",
   "execution_count": 133,
   "metadata": {
    "scrolled": true
   },
   "outputs": [
    {
     "name": "stdout",
     "output_type": "stream",
     "text": [
      "ls: `spark-warehouse/yarn_twitter_sample_words': No such file or directory\r\n"
     ]
    }
   ],
   "source": [
    "!hdfs dfs -ls spark-warehouse/yarn_twitter_sample_words"
   ]
  },
  {
   "cell_type": "code",
   "execution_count": 134,
   "metadata": {
    "scrolled": true
   },
   "outputs": [
    {
     "name": "stderr",
     "output_type": "stream",
     "text": [
      "[Stage 40:=======================================>                (30 + 3) / 43]\r"
     ]
    },
    {
     "name": "stdout",
     "output_type": "stream",
     "text": [
      "CPU times: user 94.4 ms, sys: 92.6 ms, total: 187 ms\n",
      "Wall time: 1min 26s\n"
     ]
    }
   ],
   "source": [
    "%%time\n",
    "#words를 hdfs warehouse에 저장\n",
    "words_sql.write.saveAsTable('yarn_twitter_sample_words')"
   ]
  },
  {
   "cell_type": "markdown",
   "metadata": {},
   "source": [
    "`saveAsTable()`함수를 사용하여 `spark-warehouse`에 저장"
   ]
  },
  {
   "cell_type": "code",
   "execution_count": 135,
   "metadata": {
    "scrolled": true
   },
   "outputs": [
    {
     "name": "stdout",
     "output_type": "stream",
     "text": [
      "-rw-r--r--   3 bigdata supergroup          0 2023-03-27 21:26 spark-warehouse/yarn_twitter_sample_words/_SUCCESS\r\n"
     ]
    },
    {
     "name": "stderr",
     "output_type": "stream",
     "text": [
      "\r",
      "[Stage 40:=======================================>                (30 + 3) / 43]\r"
     ]
    }
   ],
   "source": [
    "!hdfs dfs -ls spark-warehouse/yarn_twitter_sample_words | grep _SUCCESS"
   ]
  },
  {
   "cell_type": "markdown",
   "metadata": {},
   "source": [
    "hdfs를 확인해보니 잘 저장되었습니다."
   ]
  },
  {
   "cell_type": "code",
   "execution_count": 136,
   "metadata": {
    "scrolled": true
   },
   "outputs": [
    {
     "name": "stderr",
     "output_type": "stream",
     "text": [
      "[Stage 40:=======================================>                (30 + 3) / 43]\r"
     ]
    },
    {
     "name": "stdout",
     "output_type": "stream",
     "text": [
      "CPU times: user 9.9 ms, sys: 7.14 ms, total: 17 ms\n",
      "Wall time: 11.7 s\n"
     ]
    },
    {
     "name": "stderr",
     "output_type": "stream",
     "text": [
      "\r",
      "[Stage 40:===========>    (30 + 3) / 43][Stage 90:>                 (0 + 0) / 1]\r",
      "\r",
      "                                                                                \r"
     ]
    },
    {
     "data": {
      "text/plain": [
       "34827421"
      ]
     },
     "execution_count": 136,
     "metadata": {},
     "output_type": "execute_result"
    },
    {
     "name": "stderr",
     "output_type": "stream",
     "text": [
      "\r",
      "[Stage 40:=======================================>                (30 + 3) / 43]\r"
     ]
    }
   ],
   "source": [
    "%%time\n",
    "#hdfs warehouse에 저장된 테이블 개수파악\n",
    "yarn.table('yarn_twitter_sample_words').count()"
   ]
  },
  {
   "cell_type": "markdown",
   "metadata": {},
   "source": [
    "물리적인 테이블의 형태로 보관하니 집계 시간이 빨라짐"
   ]
  },
  {
   "cell_type": "markdown",
   "metadata": {},
   "source": [
    "#### 단어별로 카운트"
   ]
  },
  {
   "cell_type": "markdown",
   "metadata": {},
   "source": [
    "기존의 word_sql"
   ]
  },
  {
   "cell_type": "code",
   "execution_count": 138,
   "metadata": {},
   "outputs": [
    {
     "name": "stderr",
     "output_type": "stream",
     "text": [
      "[Stage 40:===========>    (30 + 3) / 43][Stage 93:==============>   (4 + 1) / 5]\r"
     ]
    },
    {
     "name": "stdout",
     "output_type": "stream",
     "text": [
      "+----+-------+\n",
      "|word|  count|\n",
      "+----+-------+\n",
      "|  RT|1232866|\n",
      "| the| 770781|\n",
      "|  to| 601721|\n",
      "|   a| 435703|\n",
      "| and| 416036|\n",
      "+----+-------+\n",
      "only showing top 5 rows\n",
      "\n",
      "CPU times: user 78.1 ms, sys: 194 ms, total: 272 ms\n",
      "Wall time: 1min 24s\n"
     ]
    },
    {
     "name": "stderr",
     "output_type": "stream",
     "text": [
      "[Stage 40:=======================================>                (30 + 3) / 43]\r"
     ]
    }
   ],
   "source": [
    "%%time\n",
    "query = '''\n",
    "    SELECT word, count(*) count\n",
    "    FROM words_sql\n",
    "    GROUP BY word\n",
    "    ORDER BY count DESC\n",
    "'''\n",
    "\n",
    "yarn.sql(query).show(5)"
   ]
  },
  {
   "cell_type": "markdown",
   "metadata": {},
   "source": [
    "hdfs에 저장되어있는 물리적인 테이블"
   ]
  },
  {
   "cell_type": "code",
   "execution_count": 139,
   "metadata": {},
   "outputs": [
    {
     "name": "stderr",
     "output_type": "stream",
     "text": [
      "[Stage 40:===========>    (30 + 3) / 43][Stage 96:=========>        (2 + 2) / 4]\r"
     ]
    },
    {
     "name": "stdout",
     "output_type": "stream",
     "text": [
      "+----+-------+\n",
      "|word|  count|\n",
      "+----+-------+\n",
      "|  RT|1232866|\n",
      "| the| 770781|\n",
      "|  to| 601721|\n",
      "|   a| 435703|\n",
      "| and| 416036|\n",
      "+----+-------+\n",
      "only showing top 5 rows\n",
      "\n",
      "CPU times: user 13.6 ms, sys: 18.1 ms, total: 31.8 ms\n",
      "Wall time: 19.9 s\n"
     ]
    },
    {
     "name": "stderr",
     "output_type": "stream",
     "text": [
      "[Stage 40:=======================================>                (30 + 3) / 43]\r"
     ]
    }
   ],
   "source": [
    "%%time\n",
    "query = '''\n",
    "    SELECT word, count(*) count\n",
    "    FROM yarn_twitter_sample_words\n",
    "    GROUP BY word\n",
    "    ORDER BY count DESC\n",
    "'''\n",
    "\n",
    "yarn.sql(query).show(5)"
   ]
  },
  {
   "cell_type": "markdown",
   "metadata": {},
   "source": [
    "물리적인 테이블에서 조회할때 훨씬 빠른속도를 보임"
   ]
  },
  {
   "cell_type": "markdown",
   "metadata": {},
   "source": [
    "#### 데이터 조회"
   ]
  },
  {
   "cell_type": "code",
   "execution_count": 140,
   "metadata": {
    "scrolled": true
   },
   "outputs": [
    {
     "name": "stdout",
     "output_type": "stream",
     "text": [
      "+-------------------+-------------+\n",
      "|               time|         word|\n",
      "+-------------------+-------------+\n",
      "|2023-03-17 20:19:19|@krystalwolfy|\n",
      "|2023-03-17 20:19:19|       Please|\n",
      "|2023-03-17 20:19:19|         tell|\n",
      "|2023-03-17 20:19:19|           me|\n",
      "|2023-03-17 20:19:19|         this|\n",
      "+-------------------+-------------+\n",
      "only showing top 5 rows\n",
      "\n",
      "CPU times: user 0 ns, sys: 9.46 ms, total: 9.46 ms\n",
      "Wall time: 6.49 s\n"
     ]
    },
    {
     "name": "stderr",
     "output_type": "stream",
     "text": [
      "[Stage 40:=======================================>                (30 + 3) / 43]\r"
     ]
    }
   ],
   "source": [
    "%%time\n",
    "yarn.sql('SELECT * FROM yarn_twitter_sample_words').show(5)"
   ]
  },
  {
   "cell_type": "markdown",
   "metadata": {},
   "source": [
    "### 1시간마다 그룹화하여 데이터 집계"
   ]
  },
  {
   "cell_type": "code",
   "execution_count": 141,
   "metadata": {},
   "outputs": [
    {
     "name": "stderr",
     "output_type": "stream",
     "text": [
      "[Stage 40:=======================================>                (30 + 3) / 43]\r"
     ]
    },
    {
     "name": "stdout",
     "output_type": "stream",
     "text": [
      "CPU times: user 8.72 ms, sys: 33.5 ms, total: 42.2 ms\n",
      "Wall time: 40.8 s\n"
     ]
    },
    {
     "name": "stderr",
     "output_type": "stream",
     "text": [
      "\r",
      "[Stage 40:===========>    (30 + 3) / 43][Stage 103:>                (0 + 0) / 1]\r",
      "\r",
      "                                                                                \r"
     ]
    },
    {
     "data": {
      "text/plain": [
       "28603658"
      ]
     },
     "execution_count": 141,
     "metadata": {},
     "output_type": "execute_result"
    },
    {
     "name": "stderr",
     "output_type": "stream",
     "text": [
      "\r",
      "[Stage 40:=======================================>                (30 + 3) / 43]\r"
     ]
    }
   ],
   "source": [
    "%%time\n",
    "query = '''\n",
    " SELECT substr(time, 1, 13) time,\n",
    " word,\n",
    " count(*) count\n",
    " FROM yarn_twitter_sample_words\n",
    " GROUP BY time, word\n",
    "''' \n",
    "yarn.sql(query).count()"
   ]
  },
  {
   "cell_type": "markdown",
   "metadata": {},
   "source": [
    "#### 등록 횟수가 적은 단어 조사"
   ]
  },
  {
   "cell_type": "code",
   "execution_count": 142,
   "metadata": {},
   "outputs": [
    {
     "name": "stderr",
     "output_type": "stream",
     "text": [
      "[Stage 40:=======================================>                (30 + 3) / 43]\r"
     ]
    },
    {
     "name": "stdout",
     "output_type": "stream",
     "text": [
      "+-----+-------+\n",
      "|count|  words|\n",
      "+-----+-------+\n",
      "|    1|2259387|\n",
      "|    2| 321173|\n",
      "|    3| 134057|\n",
      "|    4|  75277|\n",
      "|    5|  48716|\n",
      "+-----+-------+\n",
      "only showing top 5 rows\n",
      "\n",
      "CPU times: user 23.1 ms, sys: 11.3 ms, total: 34.4 ms\n",
      "Wall time: 21.1 s\n"
     ]
    },
    {
     "name": "stderr",
     "output_type": "stream",
     "text": [
      "[Stage 40:=======================================>                (30 + 3) / 43]\r"
     ]
    }
   ],
   "source": [
    "%%time\n",
    "#등록 횟수가 적은 단어의 수 조사\n",
    "\n",
    "query = '''\n",
    "    SELECT t.count, count(*) words\n",
    "    FROM (\n",
    "    SELECT word, count(*) count FROM yarn_twitter_sample_words\n",
    "    GROUP BY word\n",
    "    ) t\n",
    "    GROUP BY 1\n",
    "    ORDER BY 1\n",
    "'''\n",
    "\n",
    "yarn.sql(query).show(5)"
   ]
  },
  {
   "cell_type": "markdown",
   "metadata": {},
   "source": [
    "#### 단어를 카테고리로 나누는 디멘전 테이블 조회"
   ]
  },
  {
   "cell_type": "code",
   "execution_count": 143,
   "metadata": {},
   "outputs": [
    {
     "name": "stderr",
     "output_type": "stream",
     "text": [
      "                                                                                \r"
     ]
    },
    {
     "name": "stdout",
     "output_type": "stream",
     "text": [
      "+-------------+-----+---------+\n",
      "|         word|count| category|\n",
      "+-------------+-----+---------+\n",
      "|      sane...|    1|  COUNT=1|\n",
      "|     incoming|  287|COUNT=287|\n",
      "|          few| 8502|      few|\n",
      "|         some|28064|     some|\n",
      "|      danerie|    3|  COUNT=3|\n",
      "|       waters|  200|COUNT=200|\n",
      "|       focus…|   18| COUNT=18|\n",
      "|@Didi70130905|    1|  COUNT=1|\n",
      "|           By| 3454|       By|\n",
      "|        trail|  176|COUNT=176|\n",
      "+-------------+-----+---------+\n",
      "only showing top 10 rows\n",
      "\n",
      "CPU times: user 6.83 ms, sys: 47.3 ms, total: 54.1 ms\n",
      "Wall time: 18.8 s\n"
     ]
    },
    {
     "name": "stderr",
     "output_type": "stream",
     "text": [
      "\r",
      "[Stage 40:=======================================>                (30 + 3) / 43]\r"
     ]
    }
   ],
   "source": [
    "%%time\n",
    "# 단어를 카테고리로 나누는 디멘전 테이블\n",
    "\n",
    "query = '''\n",
    " SELECT word, count,\n",
    "     IF(count > 1000, word, concat('COUNT=', count)) category\n",
    " FROM (\n",
    "     SELECT word, count(*) count FROM yarn_twitter_sample_words\n",
    "     GROUP BY 1\n",
    " ) t\n",
    "'''\n",
    "\n",
    "yarn.sql(query).show(10)"
   ]
  },
  {
   "cell_type": "markdown",
   "metadata": {},
   "source": [
    "### 디멘전 테이블을 view: word_category 생성"
   ]
  },
  {
   "cell_type": "code",
   "execution_count": 144,
   "metadata": {
    "scrolled": true
   },
   "outputs": [
    {
     "name": "stdout",
     "output_type": "stream",
     "text": [
      "CPU times: user 3.08 ms, sys: 1.94 ms, total: 5.02 ms\n",
      "Wall time: 40.9 ms\n"
     ]
    },
    {
     "name": "stderr",
     "output_type": "stream",
     "text": [
      "\r",
      "[Stage 40:=======================================>                (30 + 3) / 43]\r"
     ]
    }
   ],
   "source": [
    "%%time\n",
    "yarn.sql(query).createOrReplaceTempView('word_category')"
   ]
  },
  {
   "cell_type": "code",
   "execution_count": 145,
   "metadata": {},
   "outputs": [
    {
     "name": "stderr",
     "output_type": "stream",
     "text": [
      "                                                                                \r"
     ]
    },
    {
     "data": {
      "text/plain": [
       "3100631"
      ]
     },
     "execution_count": 145,
     "metadata": {},
     "output_type": "execute_result"
    },
    {
     "name": "stderr",
     "output_type": "stream",
     "text": [
      "\r",
      "[Stage 40:=======================================>                (30 + 3) / 43]\r"
     ]
    }
   ],
   "source": [
    "yarn.sql(query).count()"
   ]
  },
  {
   "cell_type": "markdown",
   "metadata": {},
   "source": [
    "#### 1시간마다 카테고리별로 그룹화"
   ]
  },
  {
   "cell_type": "code",
   "execution_count": 146,
   "metadata": {
    "scrolled": true
   },
   "outputs": [
    {
     "name": "stderr",
     "output_type": "stream",
     "text": [
      "[Stage 40:===========>    (30 + 3) / 43][Stage 127:>                (0 + 0) / 1]\r"
     ]
    },
    {
     "name": "stdout",
     "output_type": "stream",
     "text": [
      "+-------------+---------+-----+\n",
      "|         time| category|count|\n",
      "+-------------+---------+-----+\n",
      "|2023-03-16 17|COUNT=121|  321|\n",
      "|2023-03-21 16|  COUNT=3| 8350|\n",
      "|2023-03-16 00| COUNT=29| 1609|\n",
      "|2023-03-21 19|COUNT=858|   85|\n",
      "|2023-03-17 13|COUNT=117|  273|\n",
      "+-------------+---------+-----+\n",
      "only showing top 5 rows\n",
      "\n",
      "CPU times: user 25.8 ms, sys: 60.5 ms, total: 86.2 ms\n",
      "Wall time: 55.7 s\n"
     ]
    },
    {
     "name": "stderr",
     "output_type": "stream",
     "text": [
      "[Stage 40:=======================================>                (30 + 3) / 43]\r"
     ]
    }
   ],
   "source": [
    "%%time\n",
    "# hdfs에 저장되어있는 테이블\n",
    "# 1시간마다 카테고리별로 그룹화하여 집계\n",
    "query = '''\n",
    " SELECT substr(a.time, 1, 13) time, b.category, count(*) count\n",
    " FROM yarn_twitter_sample_words a\n",
    " LEFT JOIN word_category b ON a.word = b.word\n",
    " GROUP BY 1, 2\n",
    "'''\n",
    "\n",
    "yarn.sql(query).show(5)\n"
   ]
  },
  {
   "cell_type": "markdown",
   "metadata": {},
   "source": [
    "#### 개수 확인"
   ]
  },
  {
   "cell_type": "code",
   "execution_count": 147,
   "metadata": {},
   "outputs": [
    {
     "name": "stderr",
     "output_type": "stream",
     "text": [
      "[Stage 40:===========>    (30 + 3) / 43][Stage 141:>                (0 + 0) / 1]\r"
     ]
    },
    {
     "name": "stdout",
     "output_type": "stream",
     "text": [
      "CPU times: user 62.3 ms, sys: 42.6 ms, total: 105 ms\n",
      "Wall time: 58.3 s\n"
     ]
    },
    {
     "name": "stderr",
     "output_type": "stream",
     "text": [
      "\r",
      "[Stage 40:===========>    (30 + 3) / 43][Stage 141:>                (0 + 1) / 1]\r",
      "\r",
      "                                                                                \r"
     ]
    },
    {
     "data": {
      "text/plain": [
       "220243"
      ]
     },
     "execution_count": 147,
     "metadata": {},
     "output_type": "execute_result"
    },
    {
     "name": "stderr",
     "output_type": "stream",
     "text": [
      "\r",
      "[Stage 40:=======================================>                (30 + 3) / 43]\r"
     ]
    }
   ],
   "source": [
    "%%time\n",
    "yarn.sql(query).count()"
   ]
  },
  {
   "cell_type": "markdown",
   "metadata": {},
   "source": [
    "### pandas의 DataFrame으로 변환"
   ]
  },
  {
   "cell_type": "code",
   "execution_count": 148,
   "metadata": {},
   "outputs": [
    {
     "name": "stderr",
     "output_type": "stream",
     "text": [
      "[Stage 40:=======================================>                (30 + 3) / 43]\r"
     ]
    },
    {
     "ename": "Py4JJavaError",
     "evalue": "An error occurred while calling o1195.collectToPython.\n: java.lang.OutOfMemoryError: GC overhead limit exceeded\n",
     "output_type": "error",
     "traceback": [
      "\u001b[0;31m---------------------------------------------------------------------------\u001b[0m",
      "\u001b[0;31mPy4JJavaError\u001b[0m                             Traceback (most recent call last)",
      "File \u001b[0;32m<timed exec>:1\u001b[0m\n",
      "File \u001b[0;32m~/.local/lib/python3.8/site-packages/pyspark/sql/pandas/conversion.py:205\u001b[0m, in \u001b[0;36mPandasConversionMixin.toPandas\u001b[0;34m(self)\u001b[0m\n\u001b[1;32m    202\u001b[0m             \u001b[38;5;28;01mraise\u001b[39;00m\n\u001b[1;32m    204\u001b[0m \u001b[38;5;66;03m# Below is toPandas without Arrow optimization.\u001b[39;00m\n\u001b[0;32m--> 205\u001b[0m pdf \u001b[38;5;241m=\u001b[39m pd\u001b[38;5;241m.\u001b[39mDataFrame\u001b[38;5;241m.\u001b[39mfrom_records(\u001b[38;5;28;43mself\u001b[39;49m\u001b[38;5;241;43m.\u001b[39;49m\u001b[43mcollect\u001b[49m\u001b[43m(\u001b[49m\u001b[43m)\u001b[49m, columns\u001b[38;5;241m=\u001b[39m\u001b[38;5;28mself\u001b[39m\u001b[38;5;241m.\u001b[39mcolumns)\n\u001b[1;32m    206\u001b[0m column_counter \u001b[38;5;241m=\u001b[39m Counter(\u001b[38;5;28mself\u001b[39m\u001b[38;5;241m.\u001b[39mcolumns)\n\u001b[1;32m    208\u001b[0m corrected_dtypes: List[Optional[Type]] \u001b[38;5;241m=\u001b[39m [\u001b[38;5;28;01mNone\u001b[39;00m] \u001b[38;5;241m*\u001b[39m \u001b[38;5;28mlen\u001b[39m(\u001b[38;5;28mself\u001b[39m\u001b[38;5;241m.\u001b[39mschema)\n",
      "File \u001b[0;32m~/.local/lib/python3.8/site-packages/pyspark/sql/dataframe.py:817\u001b[0m, in \u001b[0;36mDataFrame.collect\u001b[0;34m(self)\u001b[0m\n\u001b[1;32m    807\u001b[0m \u001b[38;5;250m\u001b[39m\u001b[38;5;124;03m\"\"\"Returns all the records as a list of :class:`Row`.\u001b[39;00m\n\u001b[1;32m    808\u001b[0m \n\u001b[1;32m    809\u001b[0m \u001b[38;5;124;03m.. versionadded:: 1.3.0\u001b[39;00m\n\u001b[0;32m   (...)\u001b[0m\n\u001b[1;32m    814\u001b[0m \u001b[38;5;124;03m[Row(age=2, name='Alice'), Row(age=5, name='Bob')]\u001b[39;00m\n\u001b[1;32m    815\u001b[0m \u001b[38;5;124;03m\"\"\"\u001b[39;00m\n\u001b[1;32m    816\u001b[0m \u001b[38;5;28;01mwith\u001b[39;00m SCCallSiteSync(\u001b[38;5;28mself\u001b[39m\u001b[38;5;241m.\u001b[39m_sc):\n\u001b[0;32m--> 817\u001b[0m     sock_info \u001b[38;5;241m=\u001b[39m \u001b[38;5;28;43mself\u001b[39;49m\u001b[38;5;241;43m.\u001b[39;49m\u001b[43m_jdf\u001b[49m\u001b[38;5;241;43m.\u001b[39;49m\u001b[43mcollectToPython\u001b[49m\u001b[43m(\u001b[49m\u001b[43m)\u001b[49m\n\u001b[1;32m    818\u001b[0m \u001b[38;5;28;01mreturn\u001b[39;00m \u001b[38;5;28mlist\u001b[39m(_load_from_socket(sock_info, BatchedSerializer(CPickleSerializer())))\n",
      "File \u001b[0;32m~/.local/lib/python3.8/site-packages/py4j/java_gateway.py:1321\u001b[0m, in \u001b[0;36mJavaMember.__call__\u001b[0;34m(self, *args)\u001b[0m\n\u001b[1;32m   1315\u001b[0m command \u001b[38;5;241m=\u001b[39m proto\u001b[38;5;241m.\u001b[39mCALL_COMMAND_NAME \u001b[38;5;241m+\u001b[39m\\\n\u001b[1;32m   1316\u001b[0m     \u001b[38;5;28mself\u001b[39m\u001b[38;5;241m.\u001b[39mcommand_header \u001b[38;5;241m+\u001b[39m\\\n\u001b[1;32m   1317\u001b[0m     args_command \u001b[38;5;241m+\u001b[39m\\\n\u001b[1;32m   1318\u001b[0m     proto\u001b[38;5;241m.\u001b[39mEND_COMMAND_PART\n\u001b[1;32m   1320\u001b[0m answer \u001b[38;5;241m=\u001b[39m \u001b[38;5;28mself\u001b[39m\u001b[38;5;241m.\u001b[39mgateway_client\u001b[38;5;241m.\u001b[39msend_command(command)\n\u001b[0;32m-> 1321\u001b[0m return_value \u001b[38;5;241m=\u001b[39m \u001b[43mget_return_value\u001b[49m\u001b[43m(\u001b[49m\n\u001b[1;32m   1322\u001b[0m \u001b[43m    \u001b[49m\u001b[43manswer\u001b[49m\u001b[43m,\u001b[49m\u001b[43m \u001b[49m\u001b[38;5;28;43mself\u001b[39;49m\u001b[38;5;241;43m.\u001b[39;49m\u001b[43mgateway_client\u001b[49m\u001b[43m,\u001b[49m\u001b[43m \u001b[49m\u001b[38;5;28;43mself\u001b[39;49m\u001b[38;5;241;43m.\u001b[39;49m\u001b[43mtarget_id\u001b[49m\u001b[43m,\u001b[49m\u001b[43m \u001b[49m\u001b[38;5;28;43mself\u001b[39;49m\u001b[38;5;241;43m.\u001b[39;49m\u001b[43mname\u001b[49m\u001b[43m)\u001b[49m\n\u001b[1;32m   1324\u001b[0m \u001b[38;5;28;01mfor\u001b[39;00m temp_arg \u001b[38;5;129;01min\u001b[39;00m temp_args:\n\u001b[1;32m   1325\u001b[0m     temp_arg\u001b[38;5;241m.\u001b[39m_detach()\n",
      "File \u001b[0;32m~/.local/lib/python3.8/site-packages/pyspark/sql/utils.py:190\u001b[0m, in \u001b[0;36mcapture_sql_exception.<locals>.deco\u001b[0;34m(*a, **kw)\u001b[0m\n\u001b[1;32m    188\u001b[0m \u001b[38;5;28;01mdef\u001b[39;00m \u001b[38;5;21mdeco\u001b[39m(\u001b[38;5;241m*\u001b[39ma: Any, \u001b[38;5;241m*\u001b[39m\u001b[38;5;241m*\u001b[39mkw: Any) \u001b[38;5;241m-\u001b[39m\u001b[38;5;241m>\u001b[39m Any:\n\u001b[1;32m    189\u001b[0m     \u001b[38;5;28;01mtry\u001b[39;00m:\n\u001b[0;32m--> 190\u001b[0m         \u001b[38;5;28;01mreturn\u001b[39;00m \u001b[43mf\u001b[49m\u001b[43m(\u001b[49m\u001b[38;5;241;43m*\u001b[39;49m\u001b[43ma\u001b[49m\u001b[43m,\u001b[49m\u001b[43m \u001b[49m\u001b[38;5;241;43m*\u001b[39;49m\u001b[38;5;241;43m*\u001b[39;49m\u001b[43mkw\u001b[49m\u001b[43m)\u001b[49m\n\u001b[1;32m    191\u001b[0m     \u001b[38;5;28;01mexcept\u001b[39;00m Py4JJavaError \u001b[38;5;28;01mas\u001b[39;00m e:\n\u001b[1;32m    192\u001b[0m         converted \u001b[38;5;241m=\u001b[39m convert_exception(e\u001b[38;5;241m.\u001b[39mjava_exception)\n",
      "File \u001b[0;32m~/.local/lib/python3.8/site-packages/py4j/protocol.py:326\u001b[0m, in \u001b[0;36mget_return_value\u001b[0;34m(answer, gateway_client, target_id, name)\u001b[0m\n\u001b[1;32m    324\u001b[0m value \u001b[38;5;241m=\u001b[39m OUTPUT_CONVERTER[\u001b[38;5;28mtype\u001b[39m](answer[\u001b[38;5;241m2\u001b[39m:], gateway_client)\n\u001b[1;32m    325\u001b[0m \u001b[38;5;28;01mif\u001b[39;00m answer[\u001b[38;5;241m1\u001b[39m] \u001b[38;5;241m==\u001b[39m REFERENCE_TYPE:\n\u001b[0;32m--> 326\u001b[0m     \u001b[38;5;28;01mraise\u001b[39;00m Py4JJavaError(\n\u001b[1;32m    327\u001b[0m         \u001b[38;5;124m\"\u001b[39m\u001b[38;5;124mAn error occurred while calling \u001b[39m\u001b[38;5;132;01m{0}\u001b[39;00m\u001b[38;5;132;01m{1}\u001b[39;00m\u001b[38;5;132;01m{2}\u001b[39;00m\u001b[38;5;124m.\u001b[39m\u001b[38;5;130;01m\\n\u001b[39;00m\u001b[38;5;124m\"\u001b[39m\u001b[38;5;241m.\u001b[39m\n\u001b[1;32m    328\u001b[0m         \u001b[38;5;28mformat\u001b[39m(target_id, \u001b[38;5;124m\"\u001b[39m\u001b[38;5;124m.\u001b[39m\u001b[38;5;124m\"\u001b[39m, name), value)\n\u001b[1;32m    329\u001b[0m \u001b[38;5;28;01melse\u001b[39;00m:\n\u001b[1;32m    330\u001b[0m     \u001b[38;5;28;01mraise\u001b[39;00m Py4JError(\n\u001b[1;32m    331\u001b[0m         \u001b[38;5;124m\"\u001b[39m\u001b[38;5;124mAn error occurred while calling \u001b[39m\u001b[38;5;132;01m{0}\u001b[39;00m\u001b[38;5;132;01m{1}\u001b[39;00m\u001b[38;5;132;01m{2}\u001b[39;00m\u001b[38;5;124m. Trace:\u001b[39m\u001b[38;5;130;01m\\n\u001b[39;00m\u001b[38;5;132;01m{3}\u001b[39;00m\u001b[38;5;130;01m\\n\u001b[39;00m\u001b[38;5;124m\"\u001b[39m\u001b[38;5;241m.\u001b[39m\n\u001b[1;32m    332\u001b[0m         \u001b[38;5;28mformat\u001b[39m(target_id, \u001b[38;5;124m\"\u001b[39m\u001b[38;5;124m.\u001b[39m\u001b[38;5;124m\"\u001b[39m, name, value))\n",
      "\u001b[0;31mPy4JJavaError\u001b[0m: An error occurred while calling o1195.collectToPython.\n: java.lang.OutOfMemoryError: GC overhead limit exceeded\n"
     ]
    },
    {
     "name": "stderr",
     "output_type": "stream",
     "text": [
      "[Stage 40:=======================================>                (30 + 3) / 43]\r"
     ]
    }
   ],
   "source": [
    "%%time\n",
    "result = yarn.sql(query).toPandas()\n",
    "result.head()"
   ]
  },
  {
   "cell_type": "code",
   "execution_count": 49,
   "metadata": {},
   "outputs": [
    {
     "data": {
      "text/html": [
       "<div>\n",
       "<style scoped>\n",
       "    .dataframe tbody tr th:only-of-type {\n",
       "        vertical-align: middle;\n",
       "    }\n",
       "\n",
       "    .dataframe tbody tr th {\n",
       "        vertical-align: top;\n",
       "    }\n",
       "\n",
       "    .dataframe thead th {\n",
       "        text-align: right;\n",
       "    }\n",
       "</style>\n",
       "<table border=\"1\" class=\"dataframe\">\n",
       "  <thead>\n",
       "    <tr style=\"text-align: right;\">\n",
       "      <th></th>\n",
       "      <th>time</th>\n",
       "      <th>category</th>\n",
       "      <th>count</th>\n",
       "    </tr>\n",
       "  </thead>\n",
       "  <tbody>\n",
       "    <tr>\n",
       "      <th>220238</th>\n",
       "      <td>2023-03-21 00</td>\n",
       "      <td>dare</td>\n",
       "      <td>3</td>\n",
       "    </tr>\n",
       "    <tr>\n",
       "      <th>220239</th>\n",
       "      <td>2023-03-16 22</td>\n",
       "      <td>fool</td>\n",
       "      <td>30</td>\n",
       "    </tr>\n",
       "    <tr>\n",
       "      <th>220240</th>\n",
       "      <td>2023-03-15 22</td>\n",
       "      <td>haven't</td>\n",
       "      <td>58</td>\n",
       "    </tr>\n",
       "    <tr>\n",
       "      <th>220241</th>\n",
       "      <td>2023-03-22 00</td>\n",
       "      <td>picture</td>\n",
       "      <td>6</td>\n",
       "    </tr>\n",
       "    <tr>\n",
       "      <th>220242</th>\n",
       "      <td>2023-03-17 12</td>\n",
       "      <td>piece</td>\n",
       "      <td>50</td>\n",
       "    </tr>\n",
       "  </tbody>\n",
       "</table>\n",
       "</div>"
      ],
      "text/plain": [
       "                 time category  count\n",
       "220238  2023-03-21 00     dare      3\n",
       "220239  2023-03-16 22     fool     30\n",
       "220240  2023-03-15 22  haven't     58\n",
       "220241  2023-03-22 00  picture      6\n",
       "220242  2023-03-17 12    piece     50"
      ]
     },
     "execution_count": 49,
     "metadata": {},
     "output_type": "execute_result"
    }
   ],
   "source": [
    "%%time\n",
    "result.count()"
   ]
  },
  {
   "cell_type": "code",
   "execution_count": null,
   "metadata": {},
   "outputs": [],
   "source": []
  }
 ],
 "metadata": {
  "kernelspec": {
   "display_name": "Python 3 (ipykernel)",
   "language": "python",
   "name": "python3"
  },
  "language_info": {
   "codemirror_mode": {
    "name": "ipython",
    "version": 3
   },
   "file_extension": ".py",
   "mimetype": "text/x-python",
   "name": "python",
   "nbconvert_exporter": "python",
   "pygments_lexer": "ipython3",
   "version": "3.8.10"
  }
 },
 "nbformat": 4,
 "nbformat_minor": 2
}
