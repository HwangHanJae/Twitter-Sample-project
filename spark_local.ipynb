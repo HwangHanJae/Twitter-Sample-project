{
 "cells": [
  {
   "cell_type": "code",
   "execution_count": 24,
   "metadata": {},
   "outputs": [
    {
     "ename": "",
     "evalue": "",
     "output_type": "error",
     "traceback": [
      "\u001b[1;31mThe Kernel crashed while executing code in the the current cell or a previous cell. Please review the code in the cell(s) to identify a possible cause of the failure. Click <a href='https://aka.ms/vscodeJupyterKernelCrash'>here</a> for more info. View Jupyter <a href='command:jupyter.viewOutput'>log</a> for further details."
     ]
    }
   ],
   "source": [
    "quit()"
   ]
  },
  {
   "cell_type": "code",
   "execution_count": 1,
   "metadata": {},
   "outputs": [],
   "source": [
    "from pyspark.sql import SparkSession\n",
    "from pyspark.sql import Row\n",
    "import time\n",
    "import datetime"
   ]
  },
  {
   "cell_type": "code",
   "execution_count": 2,
   "metadata": {},
   "outputs": [
    {
     "name": "stdout",
     "output_type": "stream",
     "text": [
      ":: loading settings :: url = jar:file:/usr/local/spark-3.3.2-bin-hadoop3/jars/ivy-2.5.1.jar!/org/apache/ivy/core/settings/ivysettings.xml\n"
     ]
    },
    {
     "name": "stderr",
     "output_type": "stream",
     "text": [
      "Ivy Default Cache set to: /home/bigdata/.ivy2/cache\n",
      "The jars for the packages stored in: /home/bigdata/.ivy2/jars\n",
      "org.mongodb.spark#mongo-spark-connector_2.12 added as a dependency\n",
      ":: resolving dependencies :: org.apache.spark#spark-submit-parent-6de9f071-8db3-4009-9bec-15bef2d0af20;1.0\n",
      "\tconfs: [default]\n",
      "\tfound org.mongodb.spark#mongo-spark-connector_2.12;3.0.1 in central\n",
      "\tfound org.mongodb#mongodb-driver-sync;4.0.5 in central\n",
      "\tfound org.mongodb#bson;4.0.5 in central\n",
      "\tfound org.mongodb#mongodb-driver-core;4.0.5 in central\n",
      ":: resolution report :: resolve 354ms :: artifacts dl 10ms\n",
      "\t:: modules in use:\n",
      "\torg.mongodb#bson;4.0.5 from central in [default]\n",
      "\torg.mongodb#mongodb-driver-core;4.0.5 from central in [default]\n",
      "\torg.mongodb#mongodb-driver-sync;4.0.5 from central in [default]\n",
      "\torg.mongodb.spark#mongo-spark-connector_2.12;3.0.1 from central in [default]\n",
      "\t---------------------------------------------------------------------\n",
      "\t|                  |            modules            ||   artifacts   |\n",
      "\t|       conf       | number| search|dwnlded|evicted|| number|dwnlded|\n",
      "\t---------------------------------------------------------------------\n",
      "\t|      default     |   4   |   0   |   0   |   0   ||   4   |   0   |\n",
      "\t---------------------------------------------------------------------\n",
      ":: retrieving :: org.apache.spark#spark-submit-parent-6de9f071-8db3-4009-9bec-15bef2d0af20\n",
      "\tconfs: [default]\n",
      "\t0 artifacts copied, 4 already retrieved (0kB/12ms)\n"
     ]
    },
    {
     "name": "stdout",
     "output_type": "stream",
     "text": [
      "23/03/16 16:13:50 WARN NativeCodeLoader: Unable to load native-hadoop library for your platform... using builtin-java classes where applicable\n"
     ]
    },
    {
     "name": "stderr",
     "output_type": "stream",
     "text": [
      "Setting default log level to \"WARN\".\n",
      "To adjust logging level use sc.setLogLevel(newLevel). For SparkR, use setLogLevel(newLevel).\n"
     ]
    }
   ],
   "source": [
    "local = SparkSession\\\n",
    "        .builder\\\n",
    "        .master('local')\\\n",
    "        .appName('twitter_local')\\\n",
    "        .config('spark.jars.packages', 'org.mongodb.spark:mongo-spark-connector_2.12:3.0.1')\\\n",
    "        .getOrCreate()"
   ]
  },
  {
   "cell_type": "code",
   "execution_count": 3,
   "metadata": {},
   "outputs": [
    {
     "data": {
      "text/plain": [
       "[('spark.app.submitTime', '1678950830437'),\n",
       " ('spark.master', 'local'),\n",
       " ('spark.eventLog.enabled', 'true'),\n",
       " ('spark.driver.extraJavaOptions',\n",
       "  '-XX:+IgnoreUnrecognizedVMOptions --add-opens=java.base/java.lang=ALL-UNNAMED --add-opens=java.base/java.lang.invoke=ALL-UNNAMED --add-opens=java.base/java.lang.reflect=ALL-UNNAMED --add-opens=java.base/java.io=ALL-UNNAMED --add-opens=java.base/java.net=ALL-UNNAMED --add-opens=java.base/java.nio=ALL-UNNAMED --add-opens=java.base/java.util=ALL-UNNAMED --add-opens=java.base/java.util.concurrent=ALL-UNNAMED --add-opens=java.base/java.util.concurrent.atomic=ALL-UNNAMED --add-opens=java.base/sun.nio.ch=ALL-UNNAMED --add-opens=java.base/sun.nio.cs=ALL-UNNAMED --add-opens=java.base/sun.security.action=ALL-UNNAMED --add-opens=java.base/sun.util.calendar=ALL-UNNAMED --add-opens=java.security.jgss/sun.security.krb5=ALL-UNNAMED'),\n",
       " ('spark.jars.packages', 'org.mongodb.spark:mongo-spark-connector_2.12:3.0.1'),\n",
       " ('spark.app.startTime', '1678950830664'),\n",
       " ('spark.driver.host', 'master'),\n",
       " ('spark.ui.enabled', 'true'),\n",
       " ('spark.executor.id', 'driver'),\n",
       " ('spark.jars',\n",
       "  'file:///home/bigdata/.ivy2/jars/org.mongodb.spark_mongo-spark-connector_2.12-3.0.1.jar,file:///home/bigdata/.ivy2/jars/org.mongodb_mongodb-driver-sync-4.0.5.jar,file:///home/bigdata/.ivy2/jars/org.mongodb_bson-4.0.5.jar,file:///home/bigdata/.ivy2/jars/org.mongodb_mongodb-driver-core-4.0.5.jar'),\n",
       " ('spark.files',\n",
       "  'file:///home/bigdata/.ivy2/jars/org.mongodb.spark_mongo-spark-connector_2.12-3.0.1.jar,file:///home/bigdata/.ivy2/jars/org.mongodb_mongodb-driver-sync-4.0.5.jar,file:///home/bigdata/.ivy2/jars/org.mongodb_bson-4.0.5.jar,file:///home/bigdata/.ivy2/jars/org.mongodb_mongodb-driver-core-4.0.5.jar'),\n",
       " ('spark.ui.killEnabled', 'true'),\n",
       " ('spark.eventLog.dir', 'hdfs://master/user/bigdata/spark_eventLog'),\n",
       " ('spark.driver.port', '43585'),\n",
       " ('spark.ui.port', '4040'),\n",
       " ('spark.app.initial.jar.urls',\n",
       "  'spark://master:43585/jars/org.mongodb_bson-4.0.5.jar,spark://master:43585/jars/org.mongodb_mongodb-driver-core-4.0.5.jar,spark://master:43585/jars/org.mongodb.spark_mongo-spark-connector_2.12-3.0.1.jar,spark://master:43585/jars/org.mongodb_mongodb-driver-sync-4.0.5.jar'),\n",
       " ('spark.repl.local.jars',\n",
       "  'file:///home/bigdata/.ivy2/jars/org.mongodb.spark_mongo-spark-connector_2.12-3.0.1.jar,file:///home/bigdata/.ivy2/jars/org.mongodb_mongodb-driver-sync-4.0.5.jar,file:///home/bigdata/.ivy2/jars/org.mongodb_bson-4.0.5.jar,file:///home/bigdata/.ivy2/jars/org.mongodb_mongodb-driver-core-4.0.5.jar'),\n",
       " ('spark.app.id', 'local-1678950831830'),\n",
       " ('spark.app.name', 'twitter_local'),\n",
       " ('spark.rdd.compress', 'True'),\n",
       " ('spark.executor.extraJavaOptions',\n",
       "  '-XX:+IgnoreUnrecognizedVMOptions --add-opens=java.base/java.lang=ALL-UNNAMED --add-opens=java.base/java.lang.invoke=ALL-UNNAMED --add-opens=java.base/java.lang.reflect=ALL-UNNAMED --add-opens=java.base/java.io=ALL-UNNAMED --add-opens=java.base/java.net=ALL-UNNAMED --add-opens=java.base/java.nio=ALL-UNNAMED --add-opens=java.base/java.util=ALL-UNNAMED --add-opens=java.base/java.util.concurrent=ALL-UNNAMED --add-opens=java.base/java.util.concurrent.atomic=ALL-UNNAMED --add-opens=java.base/sun.nio.ch=ALL-UNNAMED --add-opens=java.base/sun.nio.cs=ALL-UNNAMED --add-opens=java.base/sun.security.action=ALL-UNNAMED --add-opens=java.base/sun.util.calendar=ALL-UNNAMED --add-opens=java.security.jgss/sun.security.krb5=ALL-UNNAMED'),\n",
       " ('spark.serializer.objectStreamReset', '100'),\n",
       " ('spark.submit.pyFiles',\n",
       "  '/home/bigdata/.ivy2/jars/org.mongodb.spark_mongo-spark-connector_2.12-3.0.1.jar,/home/bigdata/.ivy2/jars/org.mongodb_mongodb-driver-sync-4.0.5.jar,/home/bigdata/.ivy2/jars/org.mongodb_bson-4.0.5.jar,/home/bigdata/.ivy2/jars/org.mongodb_mongodb-driver-core-4.0.5.jar'),\n",
       " ('spark.submit.deployMode', 'client'),\n",
       " ('spark.dynamicAllocation.enabled', 'true'),\n",
       " ('spark.app.initial.file.urls',\n",
       "  'file:///home/bigdata/.ivy2/jars/org.mongodb_mongodb-driver-core-4.0.5.jar,file:///home/bigdata/.ivy2/jars/org.mongodb_mongodb-driver-sync-4.0.5.jar,file:///home/bigdata/.ivy2/jars/org.mongodb_bson-4.0.5.jar,file:///home/bigdata/.ivy2/jars/org.mongodb.spark_mongo-spark-connector_2.12-3.0.1.jar'),\n",
       " ('spark.ui.showConsoleProgress', 'true')]"
      ]
     },
     "execution_count": 3,
     "metadata": {},
     "output_type": "execute_result"
    }
   ],
   "source": [
    "local.sparkContext.getConf().getAll()"
   ]
  },
  {
   "cell_type": "code",
   "execution_count": 6,
   "metadata": {},
   "outputs": [
    {
     "name": "stderr",
     "output_type": "stream",
     "text": [
      "                                                                                \r"
     ]
    },
    {
     "name": "stdout",
     "output_type": "stream",
     "text": [
      "CPU times: user 0 ns, sys: 30.1 ms, total: 30.1 ms\n",
      "Wall time: 3.9 s\n"
     ]
    }
   ],
   "source": [
    "%%time\n",
    "df = local.read.format('mongo')\\\n",
    "               .option('uri', 'mongodb://192.168.56.101:27017/twitter.sample')\\\n",
    "               .load()\n",
    "\n",
    "df.createOrReplaceTempView('tweets')"
   ]
  },
  {
   "cell_type": "code",
   "execution_count": 7,
   "metadata": {},
   "outputs": [
    {
     "name": "stderr",
     "output_type": "stream",
     "text": [
      "[Stage 5:====================================================>    (11 + 1) / 12]\r"
     ]
    },
    {
     "name": "stdout",
     "output_type": "stream",
     "text": [
      "+----+------+\n",
      "|lang| count|\n",
      "+----+------+\n",
      "|  en|555836|\n",
      "|  ja|382862|\n",
      "|  es|137643|\n",
      "|  th|126300|\n",
      "|  ko| 73626|\n",
      "+----+------+\n",
      "only showing top 5 rows\n",
      "\n",
      "CPU times: user 8.25 ms, sys: 20.8 ms, total: 29 ms\n",
      "Wall time: 27.5 s\n"
     ]
    },
    {
     "name": "stderr",
     "output_type": "stream",
     "text": [
      "                                                                                \r"
     ]
    }
   ],
   "source": [
    "%%time\n",
    "query ='''\n",
    "  SELECT data.lang as lang, count(*) count\n",
    "  FROM tweets\n",
    "  WHERE data.lang is not NULL\n",
    "  GROUP BY lang\n",
    "  ORDER BY count DESC;\n",
    "'''\n",
    "\n",
    "local.sql(query).show(5)"
   ]
  },
  {
   "cell_type": "code",
   "execution_count": 10,
   "metadata": {},
   "outputs": [
    {
     "name": "stdout",
     "output_type": "stream",
     "text": [
      "+-------------------+--------------------+\n",
      "|               time|                text|\n",
      "+-------------------+--------------------+\n",
      "|2023-03-14 16:42:09|@erdincciftci Goo...|\n",
      "|2023-03-14 16:42:09|@CheapremeBrand A...|\n",
      "|2023-03-14 16:42:09|RT @Joon_record: ...|\n",
      "|2023-03-14 16:42:09|RT @TheRavenCrypt...|\n",
      "|2023-03-14 16:42:09|@gareth_lane He i...|\n",
      "+-------------------+--------------------+\n",
      "only showing top 5 rows\n",
      "\n",
      "CPU times: user 118 µs, sys: 5.67 ms, total: 5.78 ms\n",
      "Wall time: 495 ms\n"
     ]
    }
   ],
   "source": [
    "%%time\n",
    "query = \"\"\"\n",
    "  SELECT\n",
    "    DATE_FORMAT(_timestamp, \"yyyy-MM-dd HH:mm:ss\") as time,\n",
    "    data.text as text\n",
    "  FROM tweets\n",
    "  WHERE data.lang = 'en'\n",
    "\"\"\"\n",
    "\n",
    "en_tweets = local.sql(query)\n",
    "en_tweets.show(5)"
   ]
  },
  {
   "cell_type": "code",
   "execution_count": 9,
   "metadata": {},
   "outputs": [
    {
     "name": "stdout",
     "output_type": "stream",
     "text": [
      "CPU times: user 2 µs, sys: 3 µs, total: 5 µs\n",
      "Wall time: 7.39 µs\n"
     ]
    }
   ],
   "source": [
    "%%time\n",
    "def text_split(row):\n",
    "  for word in row.text.split():\n",
    "    yield Row(time=row.time, word=word)\n",
    "  "
   ]
  },
  {
   "cell_type": "code",
   "execution_count": 11,
   "metadata": {},
   "outputs": [
    {
     "name": "stderr",
     "output_type": "stream",
     "text": [
      "                                                                                \r"
     ]
    },
    {
     "data": {
      "text/plain": [
       "[Row(time='2023-03-14 16:42:09', text='@erdincciftci Good morning forever Erdin 🙏🔥')]"
      ]
     },
     "execution_count": 11,
     "metadata": {},
     "output_type": "execute_result"
    }
   ],
   "source": [
    "%%time\n",
    "en_tweets.rdd.take(1)"
   ]
  },
  {
   "cell_type": "code",
   "execution_count": 12,
   "metadata": {},
   "outputs": [
    {
     "data": {
      "text/plain": [
       "[Row(time='2023-03-14 16:42:09', word='@erdincciftci'),\n",
       " Row(time='2023-03-14 16:42:09', word='Good'),\n",
       " Row(time='2023-03-14 16:42:09', word='morning'),\n",
       " Row(time='2023-03-14 16:42:09', word='forever'),\n",
       " Row(time='2023-03-14 16:42:09', word='Erdin')]"
      ]
     },
     "execution_count": 12,
     "metadata": {},
     "output_type": "execute_result"
    }
   ],
   "source": [
    "%%time\n",
    "en_tweets.rdd.flatMap(text_split).take(5)"
   ]
  },
  {
   "cell_type": "code",
   "execution_count": 13,
   "metadata": {},
   "outputs": [
    {
     "name": "stdout",
     "output_type": "stream",
     "text": [
      "+-------------------+-------------+\n",
      "|               time|         word|\n",
      "+-------------------+-------------+\n",
      "|2023-03-14 16:42:09|@erdincciftci|\n",
      "|2023-03-14 16:42:09|         Good|\n",
      "|2023-03-14 16:42:09|      morning|\n",
      "|2023-03-14 16:42:09|      forever|\n",
      "|2023-03-14 16:42:09|        Erdin|\n",
      "+-------------------+-------------+\n",
      "only showing top 5 rows\n",
      "\n"
     ]
    }
   ],
   "source": [
    "%%time\n",
    "en_tweets.rdd.flatMap(text_split).toDF().show(5)"
   ]
  },
  {
   "cell_type": "code",
   "execution_count": 14,
   "metadata": {},
   "outputs": [],
   "source": [
    "%%time\n",
    "words = en_tweets.rdd.flatMap(text_split).toDF()\n",
    "words.createOrReplaceTempView('words')"
   ]
  },
  {
   "cell_type": "code",
   "execution_count": 15,
   "metadata": {},
   "outputs": [
    {
     "name": "stderr",
     "output_type": "stream",
     "text": [
      "[Stage 17:>                                                         (0 + 1) / 1]\r"
     ]
    },
    {
     "name": "stdout",
     "output_type": "stream",
     "text": [
      "+----+------+\n",
      "|word| count|\n",
      "+----+------+\n",
      "|  RT|309527|\n",
      "| the|198030|\n",
      "|  to|156797|\n",
      "|   a|115463|\n",
      "| and|108143|\n",
      "+----+------+\n",
      "only showing top 5 rows\n",
      "\n"
     ]
    },
    {
     "name": "stderr",
     "output_type": "stream",
     "text": [
      "                                                                                \r"
     ]
    }
   ],
   "source": [
    "%%time\n",
    "query = '''\n",
    "    SELECT word, count(*) count\n",
    "    FROM words\n",
    "    GROUP BY word\n",
    "    ORDER BY count DESC\n",
    "'''\n",
    "\n",
    "local.sql(query).show(5)"
   ]
  },
  {
   "cell_type": "code",
   "execution_count": 16,
   "metadata": {},
   "outputs": [
    {
     "name": "stdout",
     "output_type": "stream",
     "text": [
      "+-------------------+-------------+\n",
      "|               time|         word|\n",
      "+-------------------+-------------+\n",
      "|2023-03-14 16:42:09|@erdincciftci|\n",
      "|2023-03-14 16:42:09|         Good|\n",
      "|2023-03-14 16:42:09|      morning|\n",
      "|2023-03-14 16:42:09|      forever|\n",
      "|2023-03-14 16:42:09|        Erdin|\n",
      "+-------------------+-------------+\n",
      "only showing top 5 rows\n",
      "\n"
     ]
    }
   ],
   "source": [
    "%%time\n",
    "local.sql('SELECT * FROM words').show(5)"
   ]
  },
  {
   "cell_type": "code",
   "execution_count": 17,
   "metadata": {},
   "outputs": [
    {
     "name": "stderr",
     "output_type": "stream",
     "text": [
      "                                                                                \r"
     ]
    },
    {
     "data": {
      "text/plain": [
       "8925156"
      ]
     },
     "execution_count": 17,
     "metadata": {},
     "output_type": "execute_result"
    }
   ],
   "source": [
    "%%time\n",
    "local.table('words').count()"
   ]
  },
  {
   "cell_type": "code",
   "execution_count": 18,
   "metadata": {},
   "outputs": [
    {
     "name": "stderr",
     "output_type": "stream",
     "text": [
      "[Stage 24:======================================>                   (2 + 1) / 3]\r"
     ]
    },
    {
     "name": "stdout",
     "output_type": "stream",
     "text": [
      "CPU times: user 30.1 ms, sys: 8.82 ms, total: 38.9 ms\n",
      "Wall time: 1min 14s\n"
     ]
    },
    {
     "name": "stderr",
     "output_type": "stream",
     "text": [
      "                                                                                \r"
     ]
    },
    {
     "data": {
      "text/plain": [
       "7348846"
      ]
     },
     "execution_count": 18,
     "metadata": {},
     "output_type": "execute_result"
    }
   ],
   "source": [
    "%%time\n",
    "query = '''\n",
    " SELECT substr(time, 1, 13) time,\n",
    " word,\n",
    " count(*) count\n",
    " FROM words\n",
    " GROUP BY time, word\n",
    "''' \n",
    "local.sql(query).count()"
   ]
  },
  {
   "cell_type": "code",
   "execution_count": 19,
   "metadata": {},
   "outputs": [
    {
     "name": "stderr",
     "output_type": "stream",
     "text": [
      "[Stage 30:>                                                         (0 + 1) / 1]\r"
     ]
    },
    {
     "name": "stdout",
     "output_type": "stream",
     "text": [
      "+-----+------+\n",
      "|count| words|\n",
      "+-----+------+\n",
      "|    1|754452|\n",
      "|    2|111321|\n",
      "|    3| 46674|\n",
      "|    4| 26440|\n",
      "|    5| 16792|\n",
      "+-----+------+\n",
      "only showing top 5 rows\n",
      "\n",
      "CPU times: user 19.9 ms, sys: 18.9 ms, total: 38.8 ms\n",
      "Wall time: 1min 8s\n"
     ]
    },
    {
     "name": "stderr",
     "output_type": "stream",
     "text": [
      "                                                                                \r"
     ]
    }
   ],
   "source": [
    "%%time\n",
    "#등록 횟수가 적은 단어의 수 조사\n",
    "\n",
    "query = '''\n",
    "    SELECT t.count, count(*) words\n",
    "    FROM (\n",
    "    SELECT word, count(*) count FROM words\n",
    "    GROUP BY word\n",
    "    ) t\n",
    "    GROUP BY 1\n",
    "    ORDER BY 1\n",
    "'''\n",
    "\n",
    "local.sql(query).show(5)"
   ]
  },
  {
   "cell_type": "code",
   "execution_count": 20,
   "metadata": {},
   "outputs": [
    {
     "name": "stderr",
     "output_type": "stream",
     "text": [
      "[Stage 36:>                                                         (0 + 1) / 1]\r"
     ]
    },
    {
     "name": "stdout",
     "output_type": "stream",
     "text": [
      "+-------------+-----+---------+\n",
      "|         word|count| category|\n",
      "+-------------+-----+---------+\n",
      "|    @_Osasu__|    1|  COUNT=1|\n",
      "|     @sweenpi|  654|COUNT=654|\n",
      "|          few| 2038|      few|\n",
      "|        still| 6085|    still|\n",
      "|         some| 7548|     some|\n",
      "|     Holidays|    3|  COUNT=3|\n",
      "|@questbookapp|    6|  COUNT=6|\n",
      "|  transaction|   94| COUNT=94|\n",
      "|          art| 1115|      art|\n",
      "|       online|  791|COUNT=791|\n",
      "+-------------+-----+---------+\n",
      "only showing top 10 rows\n",
      "\n",
      "CPU times: user 18.7 ms, sys: 11.2 ms, total: 29.9 ms\n",
      "Wall time: 1min 7s\n"
     ]
    },
    {
     "name": "stderr",
     "output_type": "stream",
     "text": [
      "                                                                                \r"
     ]
    }
   ],
   "source": [
    "%%time\n",
    "# 단어를 카테고리로 나누는 디멘전 테이블\n",
    "\n",
    "query = '''\n",
    " SELECT word, count,\n",
    "     IF(count > 1000, word, concat('COUNT=', count)) category\n",
    " FROM (\n",
    "     SELECT word, count(*) count FROM words\n",
    "     GROUP BY 1\n",
    " ) t\n",
    "'''\n",
    "\n",
    "local.sql(query).show(10)"
   ]
  },
  {
   "cell_type": "code",
   "execution_count": 21,
   "metadata": {},
   "outputs": [
    {
     "name": "stdout",
     "output_type": "stream",
     "text": [
      "CPU times: user 51 µs, sys: 5.6 ms, total: 5.65 ms\n",
      "Wall time: 100 ms\n"
     ]
    }
   ],
   "source": [
    "%%time\n",
    "local.sql(query).createOrReplaceTempView('word_category')"
   ]
  },
  {
   "cell_type": "code",
   "execution_count": 22,
   "metadata": {},
   "outputs": [
    {
     "name": "stderr",
     "output_type": "stream",
     "text": [
      "[Stage 41:>                                                         (0 + 1) / 3]\r"
     ]
    },
    {
     "name": "stdout",
     "output_type": "stream",
     "text": [
      "23/03/16 16:49:48 WARN RowBasedKeyValueBatch: Calling spill() on RowBasedKeyValueBatch. Will not spill but return 0.\n"
     ]
    },
    {
     "name": "stderr",
     "output_type": "stream",
     "text": [
      "[Stage 41:===================>                                      (1 + 1) / 3]\r"
     ]
    },
    {
     "name": "stdout",
     "output_type": "stream",
     "text": [
      "23/03/16 16:49:55 WARN RowBasedKeyValueBatch: Calling spill() on RowBasedKeyValueBatch. Will not spill but return 0.\n"
     ]
    },
    {
     "name": "stderr",
     "output_type": "stream",
     "text": [
      "                                                                                \r"
     ]
    },
    {
     "name": "stdout",
     "output_type": "stream",
     "text": [
      "+-------------+---------+-----+\n",
      "|         time| category|count|\n",
      "+-------------+---------+-----+\n",
      "|2023-03-16 12| COUNT=21| 1845|\n",
      "|2023-03-16 00| COUNT=29| 2187|\n",
      "|2023-03-16 13| COUNT=62|  800|\n",
      "|2023-03-15 22|COUNT=143|  741|\n",
      "|2023-03-16 01|COUNT=109|  314|\n",
      "+-------------+---------+-----+\n",
      "only showing top 5 rows\n",
      "\n"
     ]
    },
    {
     "name": "stderr",
     "output_type": "stream",
     "text": [
      "[Stage 50:======================================>                   (2 + 1) / 3]\r"
     ]
    },
    {
     "name": "stdout",
     "output_type": "stream",
     "text": [
      "CPU times: user 39.5 ms, sys: 96.1 ms, total: 136 ms\n",
      "Wall time: 4min 13s\n"
     ]
    },
    {
     "name": "stderr",
     "output_type": "stream",
     "text": [
      "                                                                                \r"
     ]
    },
    {
     "data": {
      "text/plain": [
       "24473"
      ]
     },
     "execution_count": 22,
     "metadata": {},
     "output_type": "execute_result"
    }
   ],
   "source": [
    "%%time\n",
    "# 1시간마다 카테고리별로 그룹화하여 집계\n",
    "query = '''\n",
    " SELECT substr(a.time, 1, 13) time, b.category, count(*) count\n",
    " FROM words a\n",
    " LEFT JOIN word_category b ON a.word = b.word\n",
    " GROUP BY 1, 2\n",
    "'''\n",
    "\n",
    "local.sql(query).show(5)\n",
    "local.sql(query).count()"
   ]
  },
  {
   "cell_type": "code",
   "execution_count": 23,
   "metadata": {},
   "outputs": [
    {
     "name": "stderr",
     "output_type": "stream",
     "text": [
      "[Stage 64:===================>                                      (1 + 1) / 3]\r"
     ]
    },
    {
     "name": "stdout",
     "output_type": "stream",
     "text": [
      "23/03/16 16:56:36 WARN RowBasedKeyValueBatch: Calling spill() on RowBasedKeyValueBatch. Will not spill but return 0.\n"
     ]
    },
    {
     "name": "stderr",
     "output_type": "stream",
     "text": [
      "                                                                                \r"
     ]
    },
    {
     "name": "stdout",
     "output_type": "stream",
     "text": [
      "CPU times: user 243 ms, sys: 991 ms, total: 1.23 s\n",
      "Wall time: 2min 7s\n"
     ]
    },
    {
     "data": {
      "text/html": [
       "<div>\n",
       "<style scoped>\n",
       "    .dataframe tbody tr th:only-of-type {\n",
       "        vertical-align: middle;\n",
       "    }\n",
       "\n",
       "    .dataframe tbody tr th {\n",
       "        vertical-align: top;\n",
       "    }\n",
       "\n",
       "    .dataframe thead th {\n",
       "        text-align: right;\n",
       "    }\n",
       "</style>\n",
       "<table border=\"1\" class=\"dataframe\">\n",
       "  <thead>\n",
       "    <tr style=\"text-align: right;\">\n",
       "      <th></th>\n",
       "      <th>time</th>\n",
       "      <th>category</th>\n",
       "      <th>count</th>\n",
       "    </tr>\n",
       "  </thead>\n",
       "  <tbody>\n",
       "    <tr>\n",
       "      <th>0</th>\n",
       "      <td>2023-03-16 00</td>\n",
       "      <td>COUNT=29</td>\n",
       "      <td>2164</td>\n",
       "    </tr>\n",
       "    <tr>\n",
       "      <th>1</th>\n",
       "      <td>2023-03-16 12</td>\n",
       "      <td>COUNT=21</td>\n",
       "      <td>1850</td>\n",
       "    </tr>\n",
       "    <tr>\n",
       "      <th>2</th>\n",
       "      <td>2023-03-16 13</td>\n",
       "      <td>COUNT=62</td>\n",
       "      <td>863</td>\n",
       "    </tr>\n",
       "    <tr>\n",
       "      <th>3</th>\n",
       "      <td>2023-03-15 22</td>\n",
       "      <td>COUNT=143</td>\n",
       "      <td>641</td>\n",
       "    </tr>\n",
       "    <tr>\n",
       "      <th>4</th>\n",
       "      <td>2023-03-15 20</td>\n",
       "      <td>COUNT=289</td>\n",
       "      <td>143</td>\n",
       "    </tr>\n",
       "  </tbody>\n",
       "</table>\n",
       "</div>"
      ],
      "text/plain": [
       "            time   category  count\n",
       "0  2023-03-16 00   COUNT=29   2164\n",
       "1  2023-03-16 12   COUNT=21   1850\n",
       "2  2023-03-16 13   COUNT=62    863\n",
       "3  2023-03-15 22  COUNT=143    641\n",
       "4  2023-03-15 20  COUNT=289    143"
      ]
     },
     "execution_count": 23,
     "metadata": {},
     "output_type": "execute_result"
    }
   ],
   "source": [
    "%%time\n",
    "result = local.sql(query).toPandas()\n",
    "result.head()"
   ]
  },
  {
   "cell_type": "code",
   "execution_count": null,
   "metadata": {},
   "outputs": [],
   "source": []
  },
  {
   "cell_type": "code",
   "execution_count": null,
   "metadata": {},
   "outputs": [],
   "source": []
  },
  {
   "cell_type": "code",
   "execution_count": null,
   "metadata": {},
   "outputs": [],
   "source": []
  }
 ],
 "metadata": {
  "kernelspec": {
   "display_name": "Python 3 (ipykernel)",
   "language": "python",
   "name": "python3"
  },
  "language_info": {
   "codemirror_mode": {
    "name": "ipython",
    "version": 3
   },
   "file_extension": ".py",
   "mimetype": "text/x-python",
   "name": "python",
   "nbconvert_exporter": "python",
   "pygments_lexer": "ipython3",
   "version": "3.8.10"
  }
 },
 "nbformat": 4,
 "nbformat_minor": 2
}
